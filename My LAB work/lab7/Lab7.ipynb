{
 "cells": [
  {
   "cell_type": "markdown",
   "id": "11e602e2",
   "metadata": {},
   "source": [
    "# Lab VII"
   ]
  },
  {
   "cell_type": "code",
   "execution_count": null,
   "id": "9abb4fe5",
   "metadata": {},
   "outputs": [],
   "source": [
    "import os\n",
    "import string\n",
    "\n",
    "import numpy as np\n",
    "import torch\n",
    "import torch.nn as nn\n",
    "from torch.nn import functional as F\n",
    "from torch.optim import Adam\n",
    "from torch.utils.data import Dataset, DataLoader\n",
    "from torch.utils.data.sampler import SubsetRandomSampler\n",
    "\n",
    "import torchvision\n",
    "from torchvision.datasets import CIFAR10\n",
    "from torchvision import transforms\n",
    "from torchvision.transforms import ToTensor, Normalize"
   ]
  },
  {
   "cell_type": "markdown",
   "id": "a6f225bc",
   "metadata": {},
   "source": [
    "# A Simple Convolutional Network"
   ]
  },
  {
   "cell_type": "code",
   "execution_count": null,
   "id": "ea3ff7a0",
   "metadata": {},
   "outputs": [],
   "source": [
    "ts = transforms.Compose([\n",
    "    transforms.ToTensor(),\n",
    "    transforms.Normalize((0.5, 0.5, 0.5), (0.5, 0.5, 5.5))\n",
    "])"
   ]
  },
  {
   "cell_type": "code",
   "execution_count": null,
   "id": "9ad9f9f3",
   "metadata": {},
   "outputs": [],
   "source": [
    "cifar_train = CIFAR10(root='./data/', download=True, train=True, transform=ts)\n",
    "cifar_test = CIFAR10(root='./data/', download=True, train=False, transform=ts)"
   ]
  },
  {
   "cell_type": "code",
   "execution_count": null,
   "id": "0666d6ec",
   "metadata": {},
   "outputs": [],
   "source": [
    "print(len(cifar_train))\n",
    "print(len(cifar_test))"
   ]
  },
  {
   "cell_type": "code",
   "execution_count": null,
   "id": "d200cae9",
   "metadata": {},
   "outputs": [],
   "source": [
    "train_sampler = SubsetRandomSampler(np.arange(len(cifar_train)))\n",
    "test_sampler = SubsetRandomSampler(np.arange(len(cifar_test)))"
   ]
  },
  {
   "cell_type": "code",
   "execution_count": null,
   "id": "c98680ff",
   "metadata": {},
   "outputs": [],
   "source": [
    "train_loader = DataLoader(cifar_train, 32, sampler=train_sampler)\n",
    "test_loader = DataLoader(cifar_test, 32, sampler=test_sampler)"
   ]
  },
  {
   "cell_type": "code",
   "execution_count": null,
   "id": "8b4c4ab2",
   "metadata": {},
   "outputs": [],
   "source": [
    "for x, y in train_loader:\n",
    "    print(x.shape)\n",
    "    print(y.shape)"
   ]
  },
  {
   "cell_type": "code",
   "execution_count": null,
   "id": "31c703ab",
   "metadata": {},
   "outputs": [],
   "source": [
    "classes = [\n",
    "    'plane',\n",
    "    'car',\n",
    "    'bird',\n",
    "    'cat',\n",
    "    'deer',\n",
    "    'dog',\n",
    "    'frog',\n",
    "    'horse',\n",
    "    'ship',\n",
    "    'truck'\n",
    "]"
   ]
  },
  {
   "cell_type": "code",
   "execution_count": null,
   "id": "9c8b958b",
   "metadata": {},
   "outputs": [],
   "source": [
    "class LeNet5(nn.Module):\n",
    "\n",
    "    def __init__(self, num_classes: int = 10):\n",
    "        super().__init__()\n",
    "        \n",
    "        self.conv1 = nn.Conv2d(in_channels=3, out_channels=6, kernel_size=5, stride=1, padding=0)\n",
    "        self.pool1 = nn.AvgPool2d(2, 2)\n",
    "        self.conv2 = nn.Conv2d(in_channels=6, out_channels=16, kernel_size=5, stride=1, padding=0)\n",
    "        self.pool2 = nn.AvgPool2d(2, 2)\n",
    "        \n",
    "        self.dense_stack = nn.Sequential(\n",
    "            nn.Linear(16*5*5, 120),\n",
    "            nn.ReLU(inplace=True),\n",
    "            nn.Linear(120, 84),\n",
    "            nn.ReLU(inplace=True),\n",
    "            nn.Linear(84, num_classes)\n",
    "        )\n",
    "    \n",
    "    def forward(self, x):\n",
    "        x = self.pool1(F.relu(self.conv1(x)))\n",
    "        x = self.pool2(F.relu(self.conv2(x)))        \n",
    "        x = torch.flatten(x, 1)\n",
    "        x = self.dense_stack(x)\n",
    "        return x"
   ]
  },
  {
   "cell_type": "code",
   "execution_count": null,
   "id": "6e16bd18",
   "metadata": {},
   "outputs": [],
   "source": [
    "model = LeNet5(num_classes=10)"
   ]
  },
  {
   "cell_type": "code",
   "execution_count": null,
   "id": "9d120566",
   "metadata": {},
   "outputs": [],
   "source": [
    "criterion = nn.CrossEntropyLoss()\n",
    "optimizer = Adam(model.parameters(), lr=0.001)"
   ]
  },
  {
   "cell_type": "code",
   "execution_count": null,
   "id": "e4d3c848",
   "metadata": {},
   "outputs": [],
   "source": [
    "print(len(train_loader.dataset))\n",
    "print(len(train_loader))"
   ]
  },
  {
   "cell_type": "code",
   "execution_count": null,
   "id": "ddf3fd42",
   "metadata": {},
   "outputs": [],
   "source": [
    "epochs = 5\n",
    "\n",
    "for e in range(epochs):\n",
    "    \n",
    "    running_loss = 0.0\n",
    "    \n",
    "    for i, (imgs, labels) in enumerate(train_loader):\n",
    "        outputs = model(imgs)\n",
    "        loss = criterion(outputs, labels)\n",
    "        \n",
    "        optimizer.zero_grad()\n",
    "        loss.backward()\n",
    "        optimizer.step()\n",
    "        \n",
    "        running_loss += loss.item()\n",
    "        \n",
    "        if i % 500 == 499:\n",
    "            print('[Epoch %d, Step %5d] loss: %.3f' %\n",
    "                  (e + 1, i + 1, running_loss / 500))\n",
    "            running_loss = 0.0"
   ]
  },
  {
   "cell_type": "code",
   "execution_count": null,
   "id": "2e932403",
   "metadata": {},
   "outputs": [],
   "source": [
    "PATH = './cifar_net.pth'\n",
    "torch.save(model.state_dict(), PATH)"
   ]
  },
  {
   "cell_type": "code",
   "execution_count": null,
   "id": "c4904293",
   "metadata": {},
   "outputs": [],
   "source": [
    "model = LeNet5()\n",
    "model.load_state_dict(torch.load(PATH))"
   ]
  },
  {
   "cell_type": "code",
   "execution_count": null,
   "id": "04ceaf7d",
   "metadata": {},
   "outputs": [],
   "source": [
    "def test(dataloader, model, loss_fn):\n",
    "    size = len(dataloader.dataset)\n",
    "    num_batches = len(dataloader)\n",
    "    model.eval()\n",
    "    test_loss, correct = 0, 0\n",
    "    with torch.no_grad():\n",
    "        for X, y in dataloader:\n",
    "            pred = model(X)\n",
    "            test_loss += loss_fn(pred, y).item()\n",
    "            correct += (pred.argmax(1) == y).type(torch.float).sum().item()\n",
    "    test_loss /= num_batches\n",
    "    correct /= size\n",
    "    print(f\"Test Error: \\n Accuracy: {(100*correct):>0.1f}%, Avg loss: {test_loss:>8f} \\n\")"
   ]
  },
  {
   "cell_type": "code",
   "execution_count": null,
   "id": "08a8a029",
   "metadata": {},
   "outputs": [],
   "source": [
    "test(test_loader, model, nn.CrossEntropyLoss())"
   ]
  },
  {
   "cell_type": "markdown",
   "id": "4b167567",
   "metadata": {},
   "source": [
    "# A Custom Dataset and DataLoader"
   ]
  },
  {
   "cell_type": "code",
   "execution_count": null,
   "id": "155edcba",
   "metadata": {},
   "outputs": [],
   "source": [
    "class ASLDataset(Dataset):\n",
    "    char_to_int = {c: ord(c) - ord('A') for c in string.ascii_uppercase}\n",
    "    char_to_int['del'] = 26\n",
    "    char_to_int['nothing'] = 27\n",
    "    char_to_int['space'] = 28\n",
    "    int_to_char = {value: key for key, value in char_to_int.items()}\n",
    "        \n",
    "    def __init__(self, directory: str, train: bool = True, transform=None, label_transform=None):\n",
    "        super().__init__()\n",
    "        \n",
    "        self.directory = os.path.join(directory, 'train' if train else 'test')\n",
    "        self.transform = transform\n",
    "        self.label_transform = label_transform\n",
    "        \n",
    "        self.x = None\n",
    "        self.y = None\n",
    "        \n",
    "        self._load_images()\n",
    "    \n",
    "    def __getitem__(self, idx):\n",
    "        x, y = torchvision.io.read_image(self.x[idx]).type(torch.float32), self.y[idx]\n",
    "        \n",
    "        if self.transform:\n",
    "            x = self.transform(x)\n",
    "        if self.label_transform:\n",
    "            y = self.label_transform(y)\n",
    "        \n",
    "        return x, y\n",
    "    \n",
    "    def __len__(self):\n",
    "        return len(self.y)\n",
    "    \n",
    "    def _load_images(self):\n",
    "        self.x = []\n",
    "        self.y = []\n",
    "        \n",
    "        for c in os.listdir(self.directory):\n",
    "            class_name = c\n",
    "            class_dir = os.path.join(self.directory, class_name)\n",
    "            for img in os.listdir(class_dir):\n",
    "                self.x.append(os.path.join(class_dir, img))\n",
    "                self.y.append(self.char_to_int[class_name])\n",
    "                \n",
    "        self.y = torch.tensor(self.y, dtype=torch.int64)\n",
    "    \n",
    "    @staticmethod\n",
    "    def get_classname(idx: int) -> str:\n",
    "        return ASLDataset.int_to_char[idx]"
   ]
  },
  {
   "cell_type": "code",
   "execution_count": null,
   "id": "b84b4fb0",
   "metadata": {},
   "outputs": [],
   "source": [
    "ts = transforms.Compose([\n",
    "    transforms.Resize(256),\n",
    "    transforms.RandomCrop(224),\n",
    "    transforms.Normalize((0.485, 0.456, 0.406), (0.229, 0.224, 0.225))\n",
    "])"
   ]
  },
  {
   "cell_type": "code",
   "execution_count": null,
   "id": "c40e6669",
   "metadata": {},
   "outputs": [],
   "source": [
    "asl_train = ASLDataset('./data/kaggle-data/asl', transform=ts)\n",
    "asl_test = ASLDataset('./data/kaggle-data/asl', transform=ts, train=False)"
   ]
  },
  {
   "cell_type": "code",
   "execution_count": null,
   "id": "9e1782bd",
   "metadata": {},
   "outputs": [],
   "source": [
    "print(len(asl_train))\n",
    "print(len(asl_test))"
   ]
  },
  {
   "cell_type": "code",
   "execution_count": null,
   "id": "f6c3e93b",
   "metadata": {},
   "outputs": [],
   "source": [
    "train_sampler = SubsetRandomSampler(np.arange(len(asl_train)))\n",
    "test_sampler = SubsetRandomSampler(np.arange(len(asl_test)))"
   ]
  },
  {
   "cell_type": "code",
   "execution_count": null,
   "id": "9cd94397",
   "metadata": {},
   "outputs": [],
   "source": [
    "train_loader = DataLoader(asl_train, 32, sampler=train_sampler)\n",
    "test_loader = DataLoader(asl_test, 32, sampler=test_sampler)"
   ]
  },
  {
   "cell_type": "code",
   "execution_count": null,
   "id": "5f95c6e8",
   "metadata": {},
   "outputs": [],
   "source": [
    "for x, y in train_loader:\n",
    "    print(x.shape)\n",
    "    print(y.shape)"
   ]
  },
  {
   "cell_type": "markdown",
   "id": "7bb446ef",
   "metadata": {},
   "source": [
    "# AlexNet"
   ]
  },
  {
   "cell_type": "code",
   "execution_count": null,
   "id": "e57fcf6c",
   "metadata": {},
   "outputs": [],
   "source": [
    "class AlexNet(nn.Module):\n",
    "    def __init__(self, num_classes: int = 1000) -> None:\n",
    "        super(AlexNet, self).__init__()\n",
    "        \n",
    "        self.features = nn.Sequential(\n",
    "            nn.Conv2d(3, 64, kernel_size=11, stride=4, padding=2),\n",
    "            nn.ReLU(inplace=True),\n",
    "            nn.MaxPool2d(kernel_size=3, stride=2),\n",
    "            nn.Conv2d(64, 192, kernel_size=5, padding=2),\n",
    "            nn.ReLU(inplace=True),\n",
    "            nn.MaxPool2d(kernel_size=3, stride=2),\n",
    "            nn.Conv2d(192, 384, kernel_size=3, padding=1),\n",
    "            nn.ReLU(inplace=True),\n",
    "            nn.Conv2d(384, 256, kernel_size=3, padding=1),\n",
    "            nn.ReLU(inplace=True),\n",
    "            nn.Conv2d(256, 256, kernel_size=3, padding=1),\n",
    "            nn.ReLU(inplace=True),\n",
    "            nn.MaxPool2d(kernel_size=3, stride=2),\n",
    "        )\n",
    "        self.avgpool = nn.AdaptiveAvgPool2d((6, 6))\n",
    "        \n",
    "        self.classifier = nn.Sequential(\n",
    "            nn.Dropout(),\n",
    "            nn.Linear(256 * 6 * 6, 4096),\n",
    "            nn.ReLU(inplace=True),\n",
    "            nn.Dropout(),\n",
    "            nn.Linear(4096, 4096),\n",
    "            nn.ReLU(inplace=True),\n",
    "            nn.Linear(4096, num_classes),\n",
    "        )\n",
    "\n",
    "    def forward(self, x: torch.Tensor) -> torch.Tensor:\n",
    "        x = self.features(x)\n",
    "        x = self.avgpool(x)\n",
    "        x = torch.flatten(x, 1)\n",
    "        x = self.classifier(x)\n",
    "        return x"
   ]
  },
  {
   "cell_type": "code",
   "execution_count": null,
   "id": "df2cbee6",
   "metadata": {},
   "outputs": [],
   "source": [
    "model = AlexNet(29)"
   ]
  },
  {
   "cell_type": "code",
   "execution_count": null,
   "id": "b88ac722",
   "metadata": {},
   "outputs": [],
   "source": [
    "criterion = nn.CrossEntropyLoss()\n",
    "optimizer = Adam(model.parameters(), lr=0.0001)"
   ]
  },
  {
   "cell_type": "code",
   "execution_count": null,
   "id": "bf8d8368",
   "metadata": {},
   "outputs": [],
   "source": [
    "print(len(train_loader.dataset))\n",
    "print(len(train_loader))"
   ]
  },
  {
   "cell_type": "code",
   "execution_count": null,
   "id": "b48417df",
   "metadata": {},
   "outputs": [],
   "source": [
    "epochs = 10\n",
    "\n",
    "for e in range(epochs):\n",
    "    running_loss = 0.0\n",
    "    \n",
    "    for i, (imgs, labels) in enumerate(train_loader):\n",
    "        outputs = model(imgs)\n",
    "        loss = criterion(outputs, labels)\n",
    "        \n",
    "        optimizer.zero_grad()\n",
    "        loss.backward()\n",
    "        optimizer.step()\n",
    "        \n",
    "        running_loss += loss.item()\n",
    "        if i % 7 == 6:\n",
    "            print('[Epoch %d, Step %5d] loss: %.3f' %\n",
    "                  (e + 1, i + 1, running_loss / 7))\n",
    "            running_loss = 0.0"
   ]
  },
  {
   "cell_type": "code",
   "execution_count": null,
   "id": "bc0c7df0",
   "metadata": {},
   "outputs": [],
   "source": [
    "test(test_loader, model, nn.CrossEntropyLoss())"
   ]
  },
  {
   "cell_type": "code",
   "execution_count": null,
   "id": "84a2598c",
   "metadata": {},
   "outputs": [],
   "source": [
    "class_correct = list(0. for i in range(29))\n",
    "class_total = list(0. for i in range(29))\n",
    "\n",
    "with torch.no_grad():\n",
    "    for data in test_loader:\n",
    "        images, labels = data\n",
    "        outputs = model(images)\n",
    "        _, predicted = torch.max(outputs, 1)\n",
    "        c = (predicted == labels).squeeze()\n",
    "        for i in range(len(labels)):\n",
    "            label = labels[i]\n",
    "            class_correct[label] += c[i].item()\n",
    "            class_total[label] += 1\n",
    "\n",
    "\n",
    "for i in range(29):\n",
    "    print('Accuracy of %5s : %2d %%' % (\n",
    "        ASLDataset.int_to_char[i], 100 * class_correct[i] / class_total[i]))"
   ]
  },
  {
   "cell_type": "markdown",
   "id": "fd7fd28b",
   "metadata": {},
   "source": [
    "# Pre-trained AlexNet and Transfer Learning"
   ]
  },
  {
   "cell_type": "code",
   "execution_count": null,
   "id": "2c9d850b",
   "metadata": {},
   "outputs": [],
   "source": [
    "from torchvision import models"
   ]
  },
  {
   "cell_type": "code",
   "execution_count": null,
   "id": "1cf69abf",
   "metadata": {},
   "outputs": [],
   "source": [
    "model = models.alexnet(pretrained=True)"
   ]
  },
  {
   "cell_type": "code",
   "execution_count": null,
   "id": "0d2165e7",
   "metadata": {},
   "outputs": [],
   "source": [
    "for param in model.parameters():\n",
    "    param.requires_grad = False"
   ]
  },
  {
   "cell_type": "code",
   "execution_count": null,
   "id": "85b3aec0",
   "metadata": {},
   "outputs": [],
   "source": [
    "print(model)"
   ]
  },
  {
   "cell_type": "code",
   "execution_count": null,
   "id": "2aa7495c",
   "metadata": {},
   "outputs": [],
   "source": [
    "new_clf = nn.Sequential(\n",
    "    nn.Dropout(p=0.5, inplace=False),\n",
    "    nn.Linear(in_features=9216, out_features=4096, bias=True),\n",
    "    nn.ReLU(inplace=True),\n",
    "    nn.Dropout(p=0.5, inplace=False),\n",
    "    nn.Linear(in_features=4096, out_features=4096, bias=True),\n",
    "    nn.ReLU(inplace=True),\n",
    "    nn.Linear(in_features=4096, out_features=1000, bias=True),\n",
    "    nn.ReLU(inplace=True),\n",
    "    nn.Linear(in_features=1000, out_features=29, bias=True),\n",
    ")"
   ]
  },
  {
   "cell_type": "code",
   "execution_count": null,
   "id": "532d3a67",
   "metadata": {},
   "outputs": [],
   "source": [
    "model.classifier = new_clf"
   ]
  },
  {
   "cell_type": "code",
   "execution_count": null,
   "id": "2c728db5",
   "metadata": {},
   "outputs": [],
   "source": [
    "print(model)"
   ]
  },
  {
   "cell_type": "code",
   "execution_count": null,
   "id": "bd9e3d17",
   "metadata": {},
   "outputs": [],
   "source": [
    "criterion = nn.CrossEntropyLoss()\n",
    "optimizer = Adam(model.parameters(), lr=0.0001)"
   ]
  },
  {
   "cell_type": "code",
   "execution_count": null,
   "id": "8b3d98d6",
   "metadata": {
    "scrolled": true
   },
   "outputs": [],
   "source": [
    "epochs = 10\n",
    "\n",
    "for e in range(epochs):\n",
    "    running_loss = 0.0\n",
    "    for i, (imgs, labels) in enumerate(train_loader):\n",
    "        outputs = model(imgs)\n",
    "        loss = criterion(outputs, labels)\n",
    "        \n",
    "        optimizer.zero_grad()\n",
    "        loss.backward()\n",
    "        optimizer.step()\n",
    "        \n",
    "        running_loss += loss.item()\n",
    "        if i % 7 == 6:\n",
    "            print('[Epoch %d, Step %5d] loss: %.3f' %\n",
    "                  (e + 1, i + 1, running_loss / 7))\n",
    "            running_loss = 0.0"
   ]
  },
  {
   "cell_type": "code",
   "execution_count": null,
   "id": "ab803294",
   "metadata": {},
   "outputs": [],
   "source": [
    "test(test_loader, model, nn.CrossEntropyLoss())"
   ]
  },
  {
   "cell_type": "markdown",
   "id": "6ecde332",
   "metadata": {},
   "source": [
    "# ResNet152"
   ]
  },
  {
   "cell_type": "code",
   "execution_count": null,
   "id": "37b72987",
   "metadata": {},
   "outputs": [],
   "source": [
    "model = models.resnet152(pretrained=True)"
   ]
  },
  {
   "cell_type": "code",
   "execution_count": null,
   "id": "cb8061ca",
   "metadata": {},
   "outputs": [],
   "source": [
    "print(model)"
   ]
  },
  {
   "cell_type": "code",
   "execution_count": null,
   "id": "d3c03dcb",
   "metadata": {},
   "outputs": [],
   "source": [
    "new_fc = torch.nn.Sequential(\n",
    "    nn.Linear(in_features=2048, out_features=1000, bias=True),\n",
    "    nn.ReLU(inplace=True),\n",
    "    nn.Linear(in_features=1000, out_features=29, bias=True),\n",
    ")"
   ]
  },
  {
   "cell_type": "code",
   "execution_count": null,
   "id": "edf68522",
   "metadata": {},
   "outputs": [],
   "source": [
    "model.fc = new_fc"
   ]
  },
  {
   "cell_type": "code",
   "execution_count": null,
   "id": "54edf77f",
   "metadata": {},
   "outputs": [],
   "source": [
    "print(model)"
   ]
  },
  {
   "cell_type": "code",
   "execution_count": null,
   "id": "632cb8e7",
   "metadata": {},
   "outputs": [],
   "source": [
    "criterion = nn.CrossEntropyLoss()\n",
    "optimizer = Adam(model.parameters(), lr=0.0001)"
   ]
  },
  {
   "cell_type": "code",
   "execution_count": null,
   "id": "4dbb1e4a",
   "metadata": {},
   "outputs": [],
   "source": [
    "epochs = 5\n",
    "\n",
    "for e in range(epochs):\n",
    "    running_loss = 0.0\n",
    "    for i, (imgs, labels) in enumerate(train_loader):\n",
    "        outputs = model(imgs)\n",
    "        loss = criterion(outputs, labels)\n",
    "        \n",
    "        optimizer.zero_grad()\n",
    "        loss.backward()\n",
    "        optimizer.step()\n",
    "        \n",
    "        running_loss += loss.item()\n",
    "        if i % 7 == 6:\n",
    "            print('[Epoch %d, Step %5d] loss: %.3f' %\n",
    "                  (e + 1, i + 1, running_loss / 7))\n",
    "            running_loss = 0.0"
   ]
  },
  {
   "cell_type": "code",
   "execution_count": null,
   "id": "6c1c7294",
   "metadata": {},
   "outputs": [],
   "source": []
  }
 ],
 "metadata": {
  "kernelspec": {
   "display_name": "Python 3 (ipykernel)",
   "language": "python",
   "name": "python3"
  },
  "language_info": {
   "codemirror_mode": {
    "name": "ipython",
    "version": 3
   },
   "file_extension": ".py",
   "mimetype": "text/x-python",
   "name": "python",
   "nbconvert_exporter": "python",
   "pygments_lexer": "ipython3",
   "version": "3.9.6"
  }
 },
 "nbformat": 4,
 "nbformat_minor": 5
}
