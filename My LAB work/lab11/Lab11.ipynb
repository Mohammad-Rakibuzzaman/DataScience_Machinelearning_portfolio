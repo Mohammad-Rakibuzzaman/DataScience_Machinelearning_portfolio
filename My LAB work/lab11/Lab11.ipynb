{
 "cells": [
  {
   "cell_type": "markdown",
   "id": "9c6caecd",
   "metadata": {},
   "source": [
    "# Lab 11"
   ]
  },
  {
   "cell_type": "markdown",
   "id": "4b4feef9",
   "metadata": {},
   "source": [
    "## [Titanic - Machine Learning from Disaster](https://www.kaggle.com/c/titanic)\n",
    "\n",
    "This is the legendary Titanic ML competition – the best, first challenge for you to dive into ML competitions and familiarize yourself with how the Kaggle platform works. The competition is simple: use machine learning to create a model that predicts which passengers survived the Titanic shipwreck."
   ]
  },
  {
   "cell_type": "markdown",
   "id": "9ad0bf39",
   "metadata": {},
   "source": [
    "![](./images/var.png)"
   ]
  },
  {
   "cell_type": "markdown",
   "id": "4b11c794",
   "metadata": {},
   "source": [
    "## Importing Necessary Libraries"
   ]
  },
  {
   "cell_type": "code",
   "execution_count": null,
   "id": "a9d24bf9",
   "metadata": {},
   "outputs": [],
   "source": [
    "import numpy as np\n",
    "import pandas as pd\n",
    "import matplotlib.pyplot as plt\n",
    "import seaborn as sns\n",
    "\n",
    "from sklearn.experimental import enable_iterative_imputer\n",
    "from sklearn.impute import IterativeImputer, SimpleImputer\n",
    "from sklearn.pipeline import make_pipeline\n",
    "from sklearn.compose import ColumnTransformer\n",
    "from sklearn.preprocessing import OneHotEncoder, MinMaxScaler\n",
    "\n",
    "from sklearn.model_selection import train_test_split, cross_val_score, RepeatedKFold, GridSearchCV\n",
    "from sklearn.linear_model import LogisticRegression, SGDClassifier\n",
    "from sklearn import metrics\n",
    "from sklearn.metrics import (\n",
    "    confusion_matrix, plot_confusion_matrix, accuracy_score, precision_score,\n",
    "    recall_score, f1_score, plot_roc_curve, plot_precision_recall_curve, precision_recall_curve,\n",
    "    roc_auc_score\n",
    ")"
   ]
  },
  {
   "cell_type": "markdown",
   "id": "5bc9b925",
   "metadata": {},
   "source": [
    "## Load and Check Data"
   ]
  },
  {
   "cell_type": "code",
   "execution_count": null,
   "id": "25e52aa8",
   "metadata": {},
   "outputs": [],
   "source": [
    "train = pd.read_csv(\"./data/titanic/train.csv\")\n",
    "test = pd.read_csv(\"./data/titanic/test.csv\")"
   ]
  },
  {
   "cell_type": "code",
   "execution_count": null,
   "id": "190e1dd3",
   "metadata": {},
   "outputs": [],
   "source": [
    "print(train.shape)\n",
    "print(test.shape)"
   ]
  },
  {
   "cell_type": "code",
   "execution_count": null,
   "id": "db73f421",
   "metadata": {},
   "outputs": [],
   "source": [
    "train.sample(5)"
   ]
  },
  {
   "cell_type": "code",
   "execution_count": null,
   "id": "93730c3d",
   "metadata": {},
   "outputs": [],
   "source": [
    "X = train.drop(['Survived'], axis=1)\n",
    "Y = train.Survived"
   ]
  },
  {
   "cell_type": "code",
   "execution_count": null,
   "id": "0fb2e566",
   "metadata": {},
   "outputs": [],
   "source": [
    "print(X.shape)\n",
    "print(Y.shape)"
   ]
  },
  {
   "cell_type": "code",
   "execution_count": null,
   "id": "ec870a4b",
   "metadata": {},
   "outputs": [],
   "source": [
    "X.sample(5)"
   ]
  },
  {
   "cell_type": "code",
   "execution_count": null,
   "id": "effa2a96",
   "metadata": {},
   "outputs": [],
   "source": [
    "test.sample(5)"
   ]
  },
  {
   "cell_type": "markdown",
   "id": "475dcf82",
   "metadata": {},
   "source": [
    "## Check for Missing Values"
   ]
  },
  {
   "cell_type": "code",
   "execution_count": null,
   "id": "8b9e881b",
   "metadata": {},
   "outputs": [],
   "source": [
    "# Total missing values in each columns\n",
    "train.isnull().sum(axis=0)"
   ]
  },
  {
   "cell_type": "code",
   "execution_count": null,
   "id": "cf064557",
   "metadata": {},
   "outputs": [],
   "source": [
    "# percentage of missing values in each columns\n",
    "test.isnull().sum(axis=0)"
   ]
  },
  {
   "cell_type": "markdown",
   "id": "48fe0189",
   "metadata": {},
   "source": [
    "## Preprocessing Pipeline"
   ]
  },
  {
   "cell_type": "code",
   "execution_count": null,
   "id": "ef8309f9",
   "metadata": {},
   "outputs": [],
   "source": [
    "pipeline1 = ColumnTransformer([\n",
    "    ('drop', 'drop', ['PassengerId', 'Name', 'Cabin', 'Ticket']),\n",
    "    ('ageimputer', IterativeImputer(max_iter=10, random_state=27), ['Age', 'Fare']),\n",
    "    ('embarkedimputer', SimpleImputer(strategy='most_frequent'), ['Embarked'])],\n",
    "    remainder='passthrough'\n",
    ")\n",
    "\n",
    "pipeline2 = ColumnTransformer([\n",
    "    ('scaler', MinMaxScaler(), [0, 1, 5, 6]),\n",
    "    ('onehot', OneHotEncoder(), [2, 3, 4])\n",
    "])\n",
    "\n",
    "pipeline = make_pipeline(pipeline1, pipeline2)"
   ]
  },
  {
   "cell_type": "code",
   "execution_count": null,
   "id": "1ca068bc",
   "metadata": {},
   "outputs": [],
   "source": [
    "pipeline.fit(X)\n",
    "X_train = pipeline.transform(X)\n",
    "X_test = pipeline.transform(test)"
   ]
  },
  {
   "cell_type": "code",
   "execution_count": null,
   "id": "01420117",
   "metadata": {},
   "outputs": [],
   "source": [
    "pd.DataFrame(X_train).sample(5)"
   ]
  },
  {
   "cell_type": "code",
   "execution_count": null,
   "id": "f40857f2",
   "metadata": {},
   "outputs": [],
   "source": [
    "pd.DataFrame(X_test).sample(5)"
   ]
  },
  {
   "cell_type": "markdown",
   "id": "151c3d31",
   "metadata": {},
   "source": [
    "## Modeling"
   ]
  },
  {
   "cell_type": "code",
   "execution_count": null,
   "id": "2debb7ab",
   "metadata": {},
   "outputs": [],
   "source": [
    "lr = LogisticRegression(penalty='none', verbose=2)\n",
    "rr = SGDClassifier(penalty='l2', n_jobs=4, loss='log')\n",
    "ls = SGDClassifier(penalty='l1', n_jobs=4, loss='log')\n",
    "en = SGDClassifier(penalty='elasticnet', n_jobs=4, loss='log')"
   ]
  },
  {
   "cell_type": "code",
   "execution_count": null,
   "id": "3466e6be",
   "metadata": {},
   "outputs": [],
   "source": [
    "metrics.SCORERS.keys()"
   ]
  },
  {
   "cell_type": "code",
   "execution_count": null,
   "id": "b4048bca",
   "metadata": {},
   "outputs": [],
   "source": [
    "cv = RepeatedKFold(n_splits=5, n_repeats=1, random_state=27)\n",
    "\n",
    "grid_ridge_lasso = {\n",
    "    'alpha': np.arange(0, 1, 0.05),\n",
    "    'learning_rate': np.array(['constant']),\n",
    "    'eta0': np.array([0.1, 0.01, 0.001])\n",
    "}\n",
    "\n",
    "grid_elastic = {\n",
    "    'alpha': np.arange(0, 1, 0.05),\n",
    "    'l1_ratio': np.arange(0, 1, 0.05),\n",
    "    'learning_rate': np.array(['constant']),\n",
    "    'eta0': np.array([0.1, 0.01, 0.001])\n",
    "}\n",
    "\n",
    "lr_score = cross_val_score(lr, X_train, Y, cv=cv, scoring='accuracy')\n",
    "\n",
    "rr_search = GridSearchCV(rr, grid_ridge_lasso, cv=cv, scoring='accuracy')\n",
    "rr_score = rr_search.fit(X_train, Y)\n",
    "\n",
    "ls_search = GridSearchCV(ls, grid_ridge_lasso, cv=cv, scoring='accuracy')\n",
    "ls_score = ls_search.fit(X_train, Y)\n",
    "\n",
    "en_search = GridSearchCV(en, grid_elastic, cv=cv, scoring='accuracy')\n",
    "en_score = en_search.fit(X_train, Y)"
   ]
  },
  {
   "cell_type": "code",
   "execution_count": null,
   "id": "f9f2f816",
   "metadata": {},
   "outputs": [],
   "source": [
    "print(np.mean(lr_score))\n",
    "print(rr_score.best_score_)\n",
    "print(ls_score.best_score_)\n",
    "print(en_score.best_score_)"
   ]
  },
  {
   "cell_type": "code",
   "execution_count": null,
   "id": "c9adacec",
   "metadata": {},
   "outputs": [],
   "source": [
    "predictions = en_score.best_estimator_.predict(X_test)"
   ]
  },
  {
   "cell_type": "code",
   "execution_count": null,
   "id": "6b142eaa",
   "metadata": {},
   "outputs": [],
   "source": [
    "pd.DataFrame({\n",
    "    'PassengerId': test.PassengerId,\n",
    "    'Survived': predictions\n",
    "}).to_csv('./output/submission.csv', index=False)"
   ]
  },
  {
   "cell_type": "markdown",
   "id": "a392e890",
   "metadata": {},
   "source": [
    "# More Metrics \n",
    "\n",
    "### Confusion Matrix"
   ]
  },
  {
   "cell_type": "markdown",
   "id": "28f88fee",
   "metadata": {},
   "source": [
    "![](./images/cfm.png)"
   ]
  },
  {
   "cell_type": "code",
   "execution_count": null,
   "id": "8b1519f9",
   "metadata": {},
   "outputs": [],
   "source": [
    "predictions = en_score.best_estimator_.predict(X_train)\n",
    "predictions_proba = en_score.best_estimator_.predict_proba(X_train)\n",
    "confusion_matrix(predictions, Y)"
   ]
  },
  {
   "cell_type": "code",
   "execution_count": null,
   "id": "3b1f0e06",
   "metadata": {},
   "outputs": [],
   "source": [
    "plot_confusion_matrix(en_score.best_estimator_, X_train, Y)"
   ]
  },
  {
   "cell_type": "markdown",
   "id": "e92b9b01",
   "metadata": {},
   "source": [
    "**Suppose your job was to classify cats and non-cats images. You were given 250 images of cats and 25 images of non-cats. You finalized a model and evaluated its performance in the test set. Your classifier correctly classified 200 out of 250 cats. However, it could only classify 5 non-cats images correctly. Can you create a confusion matrix out of it?**"
   ]
  },
  {
   "cell_type": "code",
   "execution_count": null,
   "id": "a02a8a5a",
   "metadata": {},
   "outputs": [],
   "source": [
    "cfm = np.array([\n",
    "    [200, 50],\n",
    "    [45, 5]\n",
    "])\n",
    "\n",
    "cfm = pd.DataFrame(cfm,\n",
    "                   index=['Originally Cat', 'Originally Non-Cat'],\n",
    "                  columns=['Predicted Cat', 'Predicted Non-Cat'])"
   ]
  },
  {
   "cell_type": "code",
   "execution_count": null,
   "id": "670688f1",
   "metadata": {},
   "outputs": [],
   "source": [
    "sns.heatmap(cfm, annot=True)"
   ]
  },
  {
   "cell_type": "markdown",
   "id": "2889c98b",
   "metadata": {},
   "source": [
    "### Classification Metrics"
   ]
  },
  {
   "cell_type": "markdown",
   "id": "9f09133c",
   "metadata": {},
   "source": [
    "![](./images/metrics.gif)"
   ]
  },
  {
   "cell_type": "markdown",
   "id": "4fb63bec",
   "metadata": {},
   "source": [
    "### Accuracy"
   ]
  },
  {
   "cell_type": "code",
   "execution_count": null,
   "id": "0b380952",
   "metadata": {},
   "outputs": [],
   "source": [
    "205 / 300"
   ]
  },
  {
   "cell_type": "markdown",
   "id": "2632bf97",
   "metadata": {},
   "source": [
    "### Precision\n",
    "\n",
    "The precision is the ratio `tp / (tp + fp)` where tp is the number of true positives and fp the number of false positives. The precision is intuitively the ability of the classifier not to label as positive a sample that is negative."
   ]
  },
  {
   "cell_type": "code",
   "execution_count": null,
   "id": "813f5e89",
   "metadata": {},
   "outputs": [],
   "source": [
    "200 / 245"
   ]
  },
  {
   "cell_type": "markdown",
   "id": "6d65409c",
   "metadata": {},
   "source": [
    "### Sensitivity / Recall\n",
    "\n",
    "The recall is the ratio `tp / (tp + fn)` where tp is the number of true positives and fn the number of false negatives. The recall is intuitively the ability of the classifier to find all the positive samples."
   ]
  },
  {
   "cell_type": "code",
   "execution_count": null,
   "id": "674463f6",
   "metadata": {},
   "outputs": [],
   "source": [
    "200 / 250"
   ]
  },
  {
   "cell_type": "markdown",
   "id": "e2895a2b",
   "metadata": {},
   "source": [
    "### Specificity"
   ]
  },
  {
   "cell_type": "code",
   "execution_count": null,
   "id": "3198369d",
   "metadata": {},
   "outputs": [],
   "source": [
    "5 / 50"
   ]
  },
  {
   "cell_type": "markdown",
   "id": "e517323e",
   "metadata": {},
   "source": [
    "### F1 Score"
   ]
  },
  {
   "cell_type": "code",
   "execution_count": null,
   "id": "7978d41a",
   "metadata": {},
   "outputs": [],
   "source": [
    "(2 * (200 / 245) * (200 / 250)) / ((200 / 250) + (200 / 245))"
   ]
  },
  {
   "cell_type": "markdown",
   "id": "bc77339a",
   "metadata": {},
   "source": [
    "### AUC ROC Curve\n",
    "\n",
    "An ROC curve (receiver operating characteristic curve) is a graph showing the performance of a classification model at all classification thresholds. This curve plots two parameters: True Positive Rate. False Positive Rate."
   ]
  },
  {
   "cell_type": "code",
   "execution_count": null,
   "id": "82c394cf",
   "metadata": {},
   "outputs": [],
   "source": [
    "plot_roc_curve(en_score.best_estimator_, X_train, Y)"
   ]
  },
  {
   "cell_type": "markdown",
   "id": "711f2460",
   "metadata": {},
   "source": [
    "### Precision-Recall Curve\n",
    "\n",
    "The precision-recall curve shows the tradeoff between precision and recall for different threshold. A high area under the curve represents both high recall and high precision, where high precision relates to a low false positive rate, and high recall relates to a low false negative rate."
   ]
  },
  {
   "cell_type": "code",
   "execution_count": null,
   "id": "642219bf",
   "metadata": {},
   "outputs": [],
   "source": [
    "plot_precision_recall_curve(en_score.best_estimator_, X_train, Y)"
   ]
  }
 ],
 "metadata": {
  "kernelspec": {
   "display_name": "Python 3 (ipykernel)",
   "language": "python",
   "name": "python3"
  },
  "language_info": {
   "codemirror_mode": {
    "name": "ipython",
    "version": 3
   },
   "file_extension": ".py",
   "mimetype": "text/x-python",
   "name": "python",
   "nbconvert_exporter": "python",
   "pygments_lexer": "ipython3",
   "version": "3.9.6"
  }
 },
 "nbformat": 4,
 "nbformat_minor": 5
}
