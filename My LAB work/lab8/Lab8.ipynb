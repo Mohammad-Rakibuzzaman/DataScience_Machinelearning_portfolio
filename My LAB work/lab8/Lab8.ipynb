{
 "cells": [
  {
   "cell_type": "markdown",
   "id": "b3369951",
   "metadata": {},
   "source": [
    "# Lab 8 - Object Detection\n",
    "Visit this PyTorch [tutorial](https://pytorch.org/tutorials/intermediate/torchvision_tutorial.html) for more."
   ]
  },
  {
   "cell_type": "code",
   "execution_count": null,
   "id": "e8fefa49",
   "metadata": {},
   "outputs": [],
   "source": [
    "import os\n",
    "import numpy as np\n",
    "import matplotlib.pyplot as plt\n",
    "import torch\n",
    "from PIL import Image"
   ]
  },
  {
   "cell_type": "code",
   "execution_count": null,
   "id": "a856fa01",
   "metadata": {},
   "outputs": [],
   "source": [
    "mask = Image.open('./data/PennFudanPed/PedMasks/FudanPed00001_mask.png')\n",
    "mask = np.array(mask)\n",
    "object_ids = np.unique(mask)\n",
    "object_ids"
   ]
  },
  {
   "cell_type": "code",
   "execution_count": null,
   "id": "28b81b59",
   "metadata": {},
   "outputs": [],
   "source": [
    "masks = mask == object_ids[:, None, None]"
   ]
  },
  {
   "cell_type": "code",
   "execution_count": null,
   "id": "170ddb19",
   "metadata": {},
   "outputs": [],
   "source": [
    "masks"
   ]
  },
  {
   "cell_type": "code",
   "execution_count": null,
   "id": "2d86110f",
   "metadata": {},
   "outputs": [],
   "source": [
    "plt.imshow(masks[0,:,:])"
   ]
  },
  {
   "cell_type": "code",
   "execution_count": null,
   "id": "11023423",
   "metadata": {},
   "outputs": [],
   "source": [
    "np.where(masks[0])"
   ]
  },
  {
   "cell_type": "markdown",
   "id": "f0b4cfaf",
   "metadata": {},
   "source": [
    "# Mask RCNN"
   ]
  },
  {
   "cell_type": "code",
   "execution_count": null,
   "id": "12ccd820",
   "metadata": {},
   "outputs": [],
   "source": [
    "import torchvision\n",
    "from torchvision.models.detection.faster_rcnn import FastRCNNPredictor\n",
    "from torchvision.models.detection.mask_rcnn import MaskRCNNPredictor\n",
    "\n",
    "model = torchvision.models.detection.maskrcnn_resnet50_fpn(pretrained=True)"
   ]
  },
  {
   "cell_type": "code",
   "execution_count": null,
   "id": "648a6eab",
   "metadata": {},
   "outputs": [],
   "source": [
    "model"
   ]
  },
  {
   "cell_type": "code",
   "execution_count": null,
   "id": "7bd48331",
   "metadata": {},
   "outputs": [],
   "source": [
    "num_classes = 2\n",
    "\n",
    "in_features = model.roi_heads.box_predictor.cls_score.in_features\n",
    "model.roi_heads.box_predictor = FastRCNNPredictor(in_features, num_classes)\n",
    "\n",
    "in_features_mask = model.roi_heads.mask_predictor.conv5_mask.in_channels\n",
    "hidden_layer = 256\n",
    "model.roi_heads.mask_predictor = MaskRCNNPredictor(in_features_mask,\n",
    "                                                   hidden_layer,\n",
    "                                                   num_classes)"
   ]
  },
  {
   "cell_type": "code",
   "execution_count": null,
   "id": "364725fc",
   "metadata": {},
   "outputs": [],
   "source": [
    "model"
   ]
  },
  {
   "cell_type": "code",
   "execution_count": null,
   "id": "69ae4bf1",
   "metadata": {},
   "outputs": [],
   "source": []
  }
 ],
 "metadata": {
  "kernelspec": {
   "display_name": "Python 3 (ipykernel)",
   "language": "python",
   "name": "python3"
  },
  "language_info": {
   "codemirror_mode": {
    "name": "ipython",
    "version": 3
   },
   "file_extension": ".py",
   "mimetype": "text/x-python",
   "name": "python",
   "nbconvert_exporter": "python",
   "pygments_lexer": "ipython3",
   "version": "3.8.10"
  }
 },
 "nbformat": 4,
 "nbformat_minor": 5
}
