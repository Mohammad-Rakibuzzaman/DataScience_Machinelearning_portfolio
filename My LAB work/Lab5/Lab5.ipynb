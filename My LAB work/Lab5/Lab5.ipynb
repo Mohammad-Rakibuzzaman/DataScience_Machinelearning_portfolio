{
 "cells": [
  {
   "cell_type": "markdown",
   "id": "6d718ab5",
   "metadata": {},
   "source": [
    "# Lab V\n",
    "\n",
    "*DS422 - Machine Learning Driven Data Analysis I<br>\n",
    "August 3, 2021*"
   ]
  },
  {
   "cell_type": "markdown",
   "id": "2493b9e5",
   "metadata": {},
   "source": [
    "# Necessary Libraries"
   ]
  },
  {
   "cell_type": "code",
   "execution_count": 232,
   "id": "1ada6435",
   "metadata": {},
   "outputs": [],
   "source": [
    "import numpy as np\n",
    "import matplotlib.pyplot as plt\n",
    "import seaborn as sns\n",
    "from sklearn.metrics import confusion_matrix\n",
    "\n",
    "import tensorflow as tf\n",
    "from tensorflow import keras\n",
    "from tensorflow.keras.models import Sequential\n",
    "from tensorflow.keras.layers import Activation, LeakyReLU, BatchNormalization, Dense, InputLayer, Flatten, Dropout\n",
    "from tensorflow.keras.optimizers import Adam, RMSprop\n",
    "from tensorflow.keras.regularizers import l2, l1, l1_l2\n",
    "from tensorflow.keras.metrics import categorical_crossentropy\n",
    "\n",
    "import tensorflow_datasets as tfds"
   ]
  },
  {
   "cell_type": "markdown",
   "id": "31b4d520",
   "metadata": {},
   "source": [
    "# Configuring GPUs\n",
    "These lines of codes might save you from some errors. Use it only when you have GPU."
   ]
  },
  {
   "cell_type": "code",
   "execution_count": 233,
   "id": "5ef7cb00",
   "metadata": {},
   "outputs": [
    {
     "name": "stdout",
     "output_type": "stream",
     "text": [
      "[PhysicalDevice(name='/physical_device:CPU:0', device_type='CPU')]\n"
     ]
    }
   ],
   "source": [
    "devices = tf.config.experimental.list_physical_devices()\n",
    "print(devices)\n",
    "# tf.config.experimental.set_memory_growth(devices[0], True)"
   ]
  },
  {
   "cell_type": "markdown",
   "id": "10ec2181",
   "metadata": {},
   "source": [
    "# Getting Data\n",
    "TensorFlow Data API"
   ]
  },
  {
   "cell_type": "code",
   "execution_count": 236,
   "id": "5e1fc53c",
   "metadata": {},
   "outputs": [],
   "source": [
    "(train, test), info = tfds.load(\n",
    "    'mnist',\n",
    "    split=['train', 'test'],\n",
    "    shuffle_files=True,\n",
    "    as_supervised=True,\n",
    "    with_info=True\n",
    ")"
   ]
  },
  {
   "cell_type": "code",
   "execution_count": 237,
   "id": "fc645394",
   "metadata": {},
   "outputs": [
    {
     "name": "stdout",
     "output_type": "stream",
     "text": [
      "tfds.core.DatasetInfo(\n",
      "    name='mnist',\n",
      "    full_name='mnist/3.0.1',\n",
      "    description=\"\"\"\n",
      "    The MNIST database of handwritten digits.\n",
      "    \"\"\",\n",
      "    homepage='http://yann.lecun.com/exdb/mnist/',\n",
      "    data_path='/home/musabbir/tensorflow_datasets/mnist/3.0.1',\n",
      "    download_size=11.06 MiB,\n",
      "    dataset_size=21.00 MiB,\n",
      "    features=FeaturesDict({\n",
      "        'image': Image(shape=(28, 28, 1), dtype=tf.uint8),\n",
      "        'label': ClassLabel(shape=(), dtype=tf.int64, num_classes=10),\n",
      "    }),\n",
      "    supervised_keys=('image', 'label'),\n",
      "    disable_shuffling=False,\n",
      "    splits={\n",
      "        'test': <SplitInfo num_examples=10000, num_shards=1>,\n",
      "        'train': <SplitInfo num_examples=60000, num_shards=1>,\n",
      "    },\n",
      "    citation=\"\"\"@article{lecun2010mnist,\n",
      "      title={MNIST handwritten digit database},\n",
      "      author={LeCun, Yann and Cortes, Corinna and Burges, CJ},\n",
      "      journal={ATT Labs [Online]. Available: http://yann.lecun.com/exdb/mnist},\n",
      "      volume={2},\n",
      "      year={2010}\n",
      "    }\"\"\",\n",
      ")\n"
     ]
    }
   ],
   "source": [
    "print(info)"
   ]
  },
  {
   "cell_type": "code",
   "execution_count": 239,
   "id": "1c25e7c1",
   "metadata": {},
   "outputs": [
    {
     "name": "stdout",
     "output_type": "stream",
     "text": [
      "(28, 28, 1)\n",
      "tf.Tensor(4, shape=(), dtype=int64)\n",
      "(28, 28, 1)\n",
      "tf.Tensor(1, shape=(), dtype=int64)\n"
     ]
    },
    {
     "name": "stderr",
     "output_type": "stream",
     "text": [
      "2021-08-03 15:18:00.635703: W tensorflow/core/kernels/data/cache_dataset_ops.cc:768] The calling iterator did not fully read the dataset being cached. In order to avoid unexpected truncation of the dataset, the partially cached contents of the dataset  will be discarded. This can happen if you have an input pipeline similar to `dataset.cache().take(k).repeat()`. You should use `dataset.take(k).cache().repeat()` instead.\n"
     ]
    }
   ],
   "source": [
    "for i, data in enumerate(train):\n",
    "    print(data[0].shape)\n",
    "    print(data[1])\n",
    "    if i == 1:\n",
    "        break"
   ]
  },
  {
   "cell_type": "code",
   "execution_count": 240,
   "id": "5cdac593",
   "metadata": {},
   "outputs": [],
   "source": [
    "def normalize(img, label):\n",
    "    return tf.cast(img, tf.float32) / 255, label"
   ]
  },
  {
   "cell_type": "code",
   "execution_count": 241,
   "id": "ee5432af",
   "metadata": {},
   "outputs": [],
   "source": [
    "batch_size = 64"
   ]
  },
  {
   "cell_type": "code",
   "execution_count": 242,
   "id": "f6c7dbba",
   "metadata": {},
   "outputs": [],
   "source": [
    "train = train.map(normalize, num_parallel_calls=tf.data.experimental.AUTOTUNE)\n",
    "train = train.cache()\n",
    "train = train.shuffle(info.splits['train'].num_examples)\n",
    "train = train.batch(batch_size)\n",
    "train = train.prefetch(tf.data.experimental.AUTOTUNE)"
   ]
  },
  {
   "cell_type": "code",
   "execution_count": 243,
   "id": "16b81349",
   "metadata": {},
   "outputs": [],
   "source": [
    "test = test.map(normalize, num_parallel_calls=tf.data.experimental.AUTOTUNE)\n",
    "test = test.batch(128)\n",
    "test = test.prefetch(tf.data.experimental.AUTOTUNE)"
   ]
  },
  {
   "cell_type": "markdown",
   "id": "972688e7",
   "metadata": {},
   "source": [
    "# Model I"
   ]
  },
  {
   "cell_type": "code",
   "execution_count": 245,
   "id": "4d9c7eb3",
   "metadata": {},
   "outputs": [],
   "source": [
    "model = Sequential([\n",
    "    InputLayer(input_shape=(28,28,1)),\n",
    "    Flatten(),\n",
    "    Dense(units=32, activation='relu'),\n",
    "    Dense(units=16, activation='relu'),\n",
    "    Dense(units=10, activation='softmax')\n",
    "])"
   ]
  },
  {
   "cell_type": "code",
   "execution_count": 246,
   "id": "9e2696d2",
   "metadata": {},
   "outputs": [
    {
     "name": "stdout",
     "output_type": "stream",
     "text": [
      "Model: \"sequential_33\"\n",
      "_________________________________________________________________\n",
      "Layer (type)                 Output Shape              Param #   \n",
      "=================================================================\n",
      "flatten_31 (Flatten)         (None, 784)               0         \n",
      "_________________________________________________________________\n",
      "dense_118 (Dense)            (None, 32)                25120     \n",
      "_________________________________________________________________\n",
      "dense_119 (Dense)            (None, 16)                528       \n",
      "_________________________________________________________________\n",
      "dense_120 (Dense)            (None, 10)                170       \n",
      "=================================================================\n",
      "Total params: 25,818\n",
      "Trainable params: 25,818\n",
      "Non-trainable params: 0\n",
      "_________________________________________________________________\n"
     ]
    }
   ],
   "source": [
    "model.summary()"
   ]
  },
  {
   "cell_type": "code",
   "execution_count": null,
   "id": "857a9ea9",
   "metadata": {},
   "outputs": [],
   "source": [
    "adam = Adam(\n",
    "    learning_rate=0.001,\n",
    "    beta_1=0.90,\n",
    "    beta_2=0.999,\n",
    "    epsilon=1e-8 \n",
    ")"
   ]
  },
  {
   "cell_type": "code",
   "execution_count": 247,
   "id": "618fd3d0",
   "metadata": {},
   "outputs": [],
   "source": [
    "model.compile(optimizer=adam, loss='sparse_categorical_crossentropy', metrics=['accuracy'])"
   ]
  },
  {
   "cell_type": "code",
   "execution_count": 248,
   "id": "136ea503",
   "metadata": {},
   "outputs": [
    {
     "name": "stdout",
     "output_type": "stream",
     "text": [
      "Epoch 1/5\n",
      "938/938 - 2s - loss: 0.3092 - accuracy: 0.9068 - val_loss: 0.1909 - val_accuracy: 0.9416\n",
      "Epoch 2/5\n",
      "938/938 - 1s - loss: 0.1675 - accuracy: 0.9517 - val_loss: 0.1593 - val_accuracy: 0.9499\n",
      "Epoch 3/5\n",
      "938/938 - 1s - loss: 0.1397 - accuracy: 0.9589 - val_loss: 0.1545 - val_accuracy: 0.9512\n",
      "Epoch 4/5\n",
      "938/938 - 1s - loss: 0.1239 - accuracy: 0.9639 - val_loss: 0.1395 - val_accuracy: 0.9577\n",
      "Epoch 5/5\n",
      "938/938 - 1s - loss: 0.1125 - accuracy: 0.9669 - val_loss: 0.1447 - val_accuracy: 0.9548\n"
     ]
    },
    {
     "data": {
      "text/plain": [
       "<tensorflow.python.keras.callbacks.History at 0x7f740b182b50>"
      ]
     },
     "execution_count": 248,
     "metadata": {},
     "output_type": "execute_result"
    }
   ],
   "source": [
    "model.fit(\n",
    "    train,\n",
    "    validation_data=test,\n",
    "    batch_size=batch_size,\n",
    "    epochs=5,\n",
    "    shuffle=True,\n",
    "    verbose=2\n",
    ")"
   ]
  },
  {
   "cell_type": "markdown",
   "id": "efb6370b",
   "metadata": {},
   "source": [
    "# Model II"
   ]
  },
  {
   "cell_type": "code",
   "execution_count": 249,
   "id": "7c05efef",
   "metadata": {},
   "outputs": [],
   "source": [
    "model2 = Sequential([\n",
    "    InputLayer(input_shape=(28,28,1)),\n",
    "    Flatten(),\n",
    "    Dense(units=32, activation='relu', kernel_initializer='he_normal'),\n",
    "    Dense(units=16, kernel_initializer='he_normal'),\n",
    "    LeakyReLU(alpha=0.2),\n",
    "    Dense(units=10, activation='softmax', kernel_initializer='glorot_normal')\n",
    "])"
   ]
  },
  {
   "cell_type": "code",
   "execution_count": 250,
   "id": "cf4f85d4",
   "metadata": {},
   "outputs": [],
   "source": [
    "model2.compile(optimizer=adam, loss='sparse_categorical_crossentropy', metrics=['accuracy'])"
   ]
  },
  {
   "cell_type": "code",
   "execution_count": 251,
   "id": "a5782867",
   "metadata": {},
   "outputs": [
    {
     "name": "stdout",
     "output_type": "stream",
     "text": [
      "Epoch 1/5\n",
      "938/938 - 1s - loss: 0.2818 - accuracy: 0.9158 - val_loss: 0.1790 - val_accuracy: 0.9439\n",
      "Epoch 2/5\n",
      "938/938 - 1s - loss: 0.1623 - accuracy: 0.9516 - val_loss: 0.1640 - val_accuracy: 0.9497\n",
      "Epoch 3/5\n",
      "938/938 - 1s - loss: 0.1335 - accuracy: 0.9597 - val_loss: 0.1374 - val_accuracy: 0.9560\n",
      "Epoch 4/5\n",
      "938/938 - 1s - loss: 0.1152 - accuracy: 0.9644 - val_loss: 0.1270 - val_accuracy: 0.9625\n",
      "Epoch 5/5\n",
      "938/938 - 1s - loss: 0.1026 - accuracy: 0.9683 - val_loss: 0.1214 - val_accuracy: 0.9622\n"
     ]
    },
    {
     "data": {
      "text/plain": [
       "<tensorflow.python.keras.callbacks.History at 0x7f740b1825e0>"
      ]
     },
     "execution_count": 251,
     "metadata": {},
     "output_type": "execute_result"
    }
   ],
   "source": [
    "model2.fit(\n",
    "    train,\n",
    "    validation_data=test,\n",
    "    batch_size=10,\n",
    "    epochs=5,\n",
    "    shuffle=True,\n",
    "    verbose=2\n",
    ")"
   ]
  },
  {
   "cell_type": "markdown",
   "id": "96aed927",
   "metadata": {},
   "source": [
    "# Model III"
   ]
  },
  {
   "cell_type": "markdown",
   "id": "ea0637a7",
   "metadata": {},
   "source": [
    "There won't be too much impact of batch normalization on such a shallow network. However, it may have positive impact in a very deep network. The parameters of batch normalization include gamma, beta, moving mean, and moving variance."
   ]
  },
  {
   "cell_type": "code",
   "execution_count": 252,
   "id": "4148e34e",
   "metadata": {},
   "outputs": [],
   "source": [
    "model3 = Sequential([\n",
    "    InputLayer(input_shape=(28,28,1)),\n",
    "    Flatten(),\n",
    "    Dense(units=32, activation='relu', kernel_initializer='he_normal'),\n",
    "    BatchNormalization(),\n",
    "    Dense(units=16, kernel_initializer='he_normal'),\n",
    "    LeakyReLU(alpha=0.2),\n",
    "    BatchNormalization(),\n",
    "    Dense(units=10, activation='softmax', kernel_initializer='glorot_normal')\n",
    "])"
   ]
  },
  {
   "cell_type": "code",
   "execution_count": 253,
   "id": "9b201962",
   "metadata": {},
   "outputs": [
    {
     "name": "stdout",
     "output_type": "stream",
     "text": [
      "Model: \"sequential_35\"\n",
      "_________________________________________________________________\n",
      "Layer (type)                 Output Shape              Param #   \n",
      "=================================================================\n",
      "flatten_33 (Flatten)         (None, 784)               0         \n",
      "_________________________________________________________________\n",
      "dense_124 (Dense)            (None, 32)                25120     \n",
      "_________________________________________________________________\n",
      "batch_normalization_46 (Batc (None, 32)                128       \n",
      "_________________________________________________________________\n",
      "dense_125 (Dense)            (None, 16)                528       \n",
      "_________________________________________________________________\n",
      "leaky_re_lu_40 (LeakyReLU)   (None, 16)                0         \n",
      "_________________________________________________________________\n",
      "batch_normalization_47 (Batc (None, 16)                64        \n",
      "_________________________________________________________________\n",
      "dense_126 (Dense)            (None, 10)                170       \n",
      "=================================================================\n",
      "Total params: 26,010\n",
      "Trainable params: 25,914\n",
      "Non-trainable params: 96\n",
      "_________________________________________________________________\n"
     ]
    }
   ],
   "source": [
    "model3.summary()"
   ]
  },
  {
   "cell_type": "code",
   "execution_count": 254,
   "id": "60f88131",
   "metadata": {},
   "outputs": [],
   "source": [
    "model3.compile(optimizer=adam, loss='sparse_categorical_crossentropy', metrics=['accuracy'])"
   ]
  },
  {
   "cell_type": "code",
   "execution_count": 255,
   "id": "3d1fc788",
   "metadata": {},
   "outputs": [
    {
     "name": "stdout",
     "output_type": "stream",
     "text": [
      "Epoch 1/5\n",
      "938/938 - 1s - loss: 0.2857 - accuracy: 0.9178 - val_loss: 0.1666 - val_accuracy: 0.9511\n",
      "Epoch 2/5\n",
      "938/938 - 1s - loss: 0.1617 - accuracy: 0.9514 - val_loss: 0.1396 - val_accuracy: 0.9595\n",
      "Epoch 3/5\n",
      "938/938 - 1s - loss: 0.1335 - accuracy: 0.9604 - val_loss: 0.1306 - val_accuracy: 0.9618\n",
      "Epoch 4/5\n",
      "938/938 - 1s - loss: 0.1187 - accuracy: 0.9643 - val_loss: 0.1175 - val_accuracy: 0.9656\n",
      "Epoch 5/5\n",
      "938/938 - 1s - loss: 0.1061 - accuracy: 0.9676 - val_loss: 0.1184 - val_accuracy: 0.9637\n"
     ]
    },
    {
     "data": {
      "text/plain": [
       "<tensorflow.python.keras.callbacks.History at 0x7f740b11a2e0>"
      ]
     },
     "execution_count": 255,
     "metadata": {},
     "output_type": "execute_result"
    }
   ],
   "source": [
    "model3.fit(\n",
    "    train,\n",
    "    validation_data=test,\n",
    "    batch_size=10,\n",
    "    epochs=5,\n",
    "    shuffle=True,\n",
    "    verbose=2\n",
    ")"
   ]
  },
  {
   "cell_type": "markdown",
   "id": "2a920596",
   "metadata": {},
   "source": [
    "# Model IV"
   ]
  },
  {
   "cell_type": "code",
   "execution_count": 256,
   "id": "c56c34e2",
   "metadata": {},
   "outputs": [],
   "source": [
    "model4 = Sequential([\n",
    "    InputLayer(input_shape=(28,28,1)),\n",
    "    Flatten(),\n",
    "    Dense(units=32, activation='relu', kernel_initializer='he_normal'),\n",
    "    BatchNormalization(),\n",
    "    Dense(units=16, kernel_initializer='he_normal'),\n",
    "    LeakyReLU(alpha=0.2),\n",
    "    BatchNormalization(),\n",
    "    Dense(units=10, activation='softmax', kernel_initializer='glorot_normal')\n",
    "])"
   ]
  },
  {
   "cell_type": "code",
   "execution_count": 257,
   "id": "40627763",
   "metadata": {},
   "outputs": [],
   "source": [
    "momentum = keras.optimizers.SGD(learning_rate=0.001, momentum=0.9)"
   ]
  },
  {
   "cell_type": "code",
   "execution_count": 258,
   "id": "36d39d33",
   "metadata": {},
   "outputs": [],
   "source": [
    "model4.compile(optimizer=momentum, loss='sparse_categorical_crossentropy', metrics=['accuracy'])"
   ]
  },
  {
   "cell_type": "code",
   "execution_count": 262,
   "id": "0ca1f188",
   "metadata": {},
   "outputs": [
    {
     "name": "stdout",
     "output_type": "stream",
     "text": [
      "Epoch 1/5\n",
      "938/938 - 1s - loss: 0.1185 - accuracy: 0.9640 - val_loss: 0.1248 - val_accuracy: 0.9624\n",
      "Epoch 2/5\n",
      "938/938 - 1s - loss: 0.1156 - accuracy: 0.9648 - val_loss: 0.1246 - val_accuracy: 0.9628\n",
      "Epoch 3/5\n",
      "938/938 - 1s - loss: 0.1112 - accuracy: 0.9668 - val_loss: 0.1263 - val_accuracy: 0.9624\n",
      "Epoch 4/5\n",
      "938/938 - 1s - loss: 0.1091 - accuracy: 0.9663 - val_loss: 0.1221 - val_accuracy: 0.9632\n",
      "Epoch 5/5\n",
      "938/938 - 1s - loss: 0.1054 - accuracy: 0.9679 - val_loss: 0.1223 - val_accuracy: 0.9635\n"
     ]
    },
    {
     "data": {
      "text/plain": [
       "<tensorflow.python.keras.callbacks.History at 0x7f7409321f40>"
      ]
     },
     "execution_count": 262,
     "metadata": {},
     "output_type": "execute_result"
    }
   ],
   "source": [
    "model4.fit(\n",
    "    train,\n",
    "    validation_data=test,\n",
    "    batch_size=10,\n",
    "    epochs=5,\n",
    "    shuffle=True,\n",
    "    verbose=2\n",
    ")"
   ]
  },
  {
   "cell_type": "markdown",
   "id": "ac179861",
   "metadata": {},
   "source": [
    "# Model V"
   ]
  },
  {
   "cell_type": "code",
   "execution_count": 263,
   "id": "94503450",
   "metadata": {},
   "outputs": [],
   "source": [
    "model5 = Sequential([\n",
    "    InputLayer(input_shape=(28,28,1)),\n",
    "    Flatten(),\n",
    "    Dense(units=32, activation='relu', kernel_initializer='he_normal'),\n",
    "    BatchNormalization(),\n",
    "    Dense(units=16, kernel_initializer='he_normal'),\n",
    "    LeakyReLU(alpha=0.2),\n",
    "    BatchNormalization(),\n",
    "    Dense(units=10, activation='softmax', kernel_initializer='glorot_normal')\n",
    "])"
   ]
  },
  {
   "cell_type": "code",
   "execution_count": 264,
   "id": "d5ee2c2d",
   "metadata": {},
   "outputs": [],
   "source": [
    "rmsprop = RMSprop(\n",
    "    learning_rate=0.001,\n",
    "    rho=0.999\n",
    ")"
   ]
  },
  {
   "cell_type": "code",
   "execution_count": 265,
   "id": "1248154c",
   "metadata": {},
   "outputs": [],
   "source": [
    "model5.compile(optimizer=rmsprop, loss='sparse_categorical_crossentropy', metrics=['accuracy'])"
   ]
  },
  {
   "cell_type": "code",
   "execution_count": 266,
   "id": "0da28eb2",
   "metadata": {},
   "outputs": [
    {
     "name": "stdout",
     "output_type": "stream",
     "text": [
      "Epoch 1/5\n",
      "938/938 - 2s - loss: 0.2756 - accuracy: 0.9192 - val_loss: 0.1704 - val_accuracy: 0.9488\n",
      "Epoch 2/5\n",
      "938/938 - 1s - loss: 0.1635 - accuracy: 0.9519 - val_loss: 0.1476 - val_accuracy: 0.9534\n",
      "Epoch 3/5\n",
      "938/938 - 1s - loss: 0.1396 - accuracy: 0.9584 - val_loss: 0.1465 - val_accuracy: 0.9533\n",
      "Epoch 4/5\n",
      "938/938 - 1s - loss: 0.1238 - accuracy: 0.9624 - val_loss: 0.1287 - val_accuracy: 0.9604\n",
      "Epoch 5/5\n",
      "938/938 - 1s - loss: 0.1129 - accuracy: 0.9657 - val_loss: 0.1171 - val_accuracy: 0.9636\n"
     ]
    },
    {
     "data": {
      "text/plain": [
       "<tensorflow.python.keras.callbacks.History at 0x7f7409626e50>"
      ]
     },
     "execution_count": 266,
     "metadata": {},
     "output_type": "execute_result"
    }
   ],
   "source": [
    "model5.fit(\n",
    "    train,\n",
    "    validation_data=test,\n",
    "    batch_size=10,\n",
    "    epochs=5,\n",
    "    shuffle=True,\n",
    "    verbose=2\n",
    ")"
   ]
  },
  {
   "cell_type": "markdown",
   "id": "03b79e52",
   "metadata": {},
   "source": [
    "# Model VI"
   ]
  },
  {
   "cell_type": "code",
   "execution_count": 267,
   "id": "321ac54c",
   "metadata": {},
   "outputs": [],
   "source": [
    "model6 = Sequential([\n",
    "    InputLayer(input_shape=(28,28,1)),\n",
    "    Flatten(),\n",
    "    Dense(units=512, kernel_initializer='he_normal'),\n",
    "    LeakyReLU(alpha=0.2),\n",
    "    BatchNormalization(),\n",
    "    Dense(units=256, activation='selu', kernel_initializer='lecun_uniform'),\n",
    "    Dense(units=128, kernel_initializer='he_normal'),\n",
    "    LeakyReLU(alpha=0.2),\n",
    "    BatchNormalization(),\n",
    "    Dense(units=64, kernel_initializer='he_normal'),\n",
    "    LeakyReLU(alpha=0.2),\n",
    "    BatchNormalization(),\n",
    "    Dense(units=32, kernel_initializer='he_normal'),\n",
    "    LeakyReLU(alpha=0.2),\n",
    "    BatchNormalization(),\n",
    "    Dense(units=16, kernel_initializer='he_normal'),\n",
    "    LeakyReLU(alpha=0.2),\n",
    "    BatchNormalization(),\n",
    "    Dense(units=10, activation='softmax', kernel_initializer='glorot_normal')\n",
    "])"
   ]
  },
  {
   "cell_type": "code",
   "execution_count": 268,
   "id": "b4b25fb3",
   "metadata": {},
   "outputs": [
    {
     "name": "stdout",
     "output_type": "stream",
     "text": [
      "Model: \"sequential_38\"\n",
      "_________________________________________________________________\n",
      "Layer (type)                 Output Shape              Param #   \n",
      "=================================================================\n",
      "flatten_36 (Flatten)         (None, 784)               0         \n",
      "_________________________________________________________________\n",
      "dense_133 (Dense)            (None, 512)               401920    \n",
      "_________________________________________________________________\n",
      "leaky_re_lu_43 (LeakyReLU)   (None, 512)               0         \n",
      "_________________________________________________________________\n",
      "batch_normalization_52 (Batc (None, 512)               2048      \n",
      "_________________________________________________________________\n",
      "dense_134 (Dense)            (None, 256)               131328    \n",
      "_________________________________________________________________\n",
      "dense_135 (Dense)            (None, 128)               32896     \n",
      "_________________________________________________________________\n",
      "leaky_re_lu_44 (LeakyReLU)   (None, 128)               0         \n",
      "_________________________________________________________________\n",
      "batch_normalization_53 (Batc (None, 128)               512       \n",
      "_________________________________________________________________\n",
      "dense_136 (Dense)            (None, 64)                8256      \n",
      "_________________________________________________________________\n",
      "leaky_re_lu_45 (LeakyReLU)   (None, 64)                0         \n",
      "_________________________________________________________________\n",
      "batch_normalization_54 (Batc (None, 64)                256       \n",
      "_________________________________________________________________\n",
      "dense_137 (Dense)            (None, 32)                2080      \n",
      "_________________________________________________________________\n",
      "leaky_re_lu_46 (LeakyReLU)   (None, 32)                0         \n",
      "_________________________________________________________________\n",
      "batch_normalization_55 (Batc (None, 32)                128       \n",
      "_________________________________________________________________\n",
      "dense_138 (Dense)            (None, 16)                528       \n",
      "_________________________________________________________________\n",
      "leaky_re_lu_47 (LeakyReLU)   (None, 16)                0         \n",
      "_________________________________________________________________\n",
      "batch_normalization_56 (Batc (None, 16)                64        \n",
      "_________________________________________________________________\n",
      "dense_139 (Dense)            (None, 10)                170       \n",
      "=================================================================\n",
      "Total params: 580,186\n",
      "Trainable params: 578,682\n",
      "Non-trainable params: 1,504\n",
      "_________________________________________________________________\n"
     ]
    }
   ],
   "source": [
    "model6.summary()"
   ]
  },
  {
   "cell_type": "code",
   "execution_count": 269,
   "id": "e4425579",
   "metadata": {},
   "outputs": [],
   "source": [
    "model6.compile(optimizer=adam, loss='sparse_categorical_crossentropy', metrics=['accuracy'])"
   ]
  },
  {
   "cell_type": "code",
   "execution_count": 272,
   "id": "c52ded61",
   "metadata": {},
   "outputs": [
    {
     "name": "stdout",
     "output_type": "stream",
     "text": [
      "Epoch 1/5\n",
      "938/938 - 4s - loss: 0.0298 - accuracy: 0.9904 - val_loss: 0.0671 - val_accuracy: 0.9810\n",
      "Epoch 2/5\n",
      "938/938 - 4s - loss: 0.0279 - accuracy: 0.9911 - val_loss: 0.0729 - val_accuracy: 0.9795\n",
      "Epoch 3/5\n",
      "938/938 - 4s - loss: 0.0235 - accuracy: 0.9924 - val_loss: 0.0775 - val_accuracy: 0.9787\n",
      "Epoch 4/5\n",
      "938/938 - 5s - loss: 0.0239 - accuracy: 0.9924 - val_loss: 0.0698 - val_accuracy: 0.9808\n",
      "Epoch 5/5\n",
      "938/938 - 4s - loss: 0.0203 - accuracy: 0.9936 - val_loss: 0.0701 - val_accuracy: 0.9817\n"
     ]
    },
    {
     "data": {
      "text/plain": [
       "<tensorflow.python.keras.callbacks.History at 0x7f74093219a0>"
      ]
     },
     "execution_count": 272,
     "metadata": {},
     "output_type": "execute_result"
    }
   ],
   "source": [
    "model6.fit(\n",
    "    train,\n",
    "    validation_data=test,\n",
    "    batch_size=10,\n",
    "    epochs=5,\n",
    "    shuffle=True,\n",
    "    verbose=2\n",
    ")"
   ]
  },
  {
   "cell_type": "markdown",
   "id": "446ba956",
   "metadata": {},
   "source": [
    "# Model VII"
   ]
  },
  {
   "cell_type": "code",
   "execution_count": 273,
   "id": "c921ac33",
   "metadata": {},
   "outputs": [],
   "source": [
    "l2_regularizer = l2(0.01)"
   ]
  },
  {
   "cell_type": "code",
   "execution_count": 279,
   "id": "1ad50f11",
   "metadata": {},
   "outputs": [],
   "source": [
    "model7 = Sequential([\n",
    "    InputLayer(input_shape=(28,28,1)),\n",
    "    Flatten(),\n",
    "    Dense(units=512, kernel_initializer='he_normal', kernel_regularizer=l2_regularizer),\n",
    "    LeakyReLU(alpha=0.2),\n",
    "    Dropout(0.2),\n",
    "    BatchNormalization(),\n",
    "    Dense(units=256, activation='selu', kernel_initializer='lecun_uniform', kernel_regularizer=l2_regularizer),\n",
    "    Dense(units=128, kernel_initializer='he_normal', kernel_regularizer=l2_regularizer),\n",
    "    LeakyReLU(alpha=0.2),\n",
    "    Dropout(0.2),\n",
    "    BatchNormalization(),\n",
    "    Dense(units=64, kernel_initializer='he_normal', kernel_regularizer=l2_regularizer),\n",
    "    LeakyReLU(alpha=0.2),\n",
    "    Dropout(0.2),\n",
    "    BatchNormalization(),\n",
    "    Dense(units=32, kernel_initializer='he_normal', kernel_regularizer=l2_regularizer),\n",
    "    LeakyReLU(alpha=0.2),\n",
    "    Dropout(0.2),\n",
    "    BatchNormalization(),\n",
    "    Dense(units=16, kernel_initializer='he_normal', kernel_regularizer=l2_regularizer),\n",
    "    LeakyReLU(alpha=0.2),\n",
    "    BatchNormalization(),\n",
    "    Dense(units=10, activation='softmax', kernel_initializer='glorot_normal')\n",
    "])"
   ]
  },
  {
   "cell_type": "code",
   "execution_count": 280,
   "id": "d5800d8c",
   "metadata": {},
   "outputs": [],
   "source": [
    "model7.compile(optimizer=adam, loss='sparse_categorical_crossentropy', metrics=['accuracy'])"
   ]
  },
  {
   "cell_type": "code",
   "execution_count": 282,
   "id": "bc5aa889",
   "metadata": {},
   "outputs": [
    {
     "name": "stdout",
     "output_type": "stream",
     "text": [
      "Epoch 1/10\n",
      "938/938 - 5s - loss: 0.6575 - accuracy: 0.9007 - val_loss: 0.5718 - val_accuracy: 0.9308\n",
      "Epoch 2/10\n",
      "938/938 - 6s - loss: 0.6393 - accuracy: 0.9047 - val_loss: 0.5339 - val_accuracy: 0.9316\n",
      "Epoch 3/10\n",
      "938/938 - 6s - loss: 0.6258 - accuracy: 0.9057 - val_loss: 0.5291 - val_accuracy: 0.9325\n",
      "Epoch 4/10\n",
      "938/938 - 6s - loss: 0.6149 - accuracy: 0.9058 - val_loss: 0.5503 - val_accuracy: 0.9192\n",
      "Epoch 5/10\n",
      "938/938 - 6s - loss: 0.5950 - accuracy: 0.9085 - val_loss: 0.5289 - val_accuracy: 0.9274\n",
      "Epoch 6/10\n",
      "938/938 - 6s - loss: 0.5937 - accuracy: 0.9093 - val_loss: 0.4572 - val_accuracy: 0.9456\n",
      "Epoch 7/10\n",
      "938/938 - 6s - loss: 0.5884 - accuracy: 0.9096 - val_loss: 0.4914 - val_accuracy: 0.9342\n",
      "Epoch 8/10\n",
      "938/938 - 6s - loss: 0.5768 - accuracy: 0.9115 - val_loss: 0.5800 - val_accuracy: 0.9065\n",
      "Epoch 9/10\n",
      "938/938 - 6s - loss: 0.5746 - accuracy: 0.9113 - val_loss: 0.4910 - val_accuracy: 0.9297\n",
      "Epoch 10/10\n",
      "938/938 - 7s - loss: 0.5666 - accuracy: 0.9121 - val_loss: 0.5092 - val_accuracy: 0.9309\n"
     ]
    },
    {
     "data": {
      "text/plain": [
       "<tensorflow.python.keras.callbacks.History at 0x7f740a0dd850>"
      ]
     },
     "execution_count": 282,
     "metadata": {},
     "output_type": "execute_result"
    }
   ],
   "source": [
    "model7.fit(\n",
    "    train,\n",
    "    validation_data=test,\n",
    "    batch_size=10,\n",
    "    epochs=10,\n",
    "    shuffle=True,\n",
    "    verbose=2\n",
    ")"
   ]
  },
  {
   "cell_type": "code",
   "execution_count": 287,
   "id": "46c5014f",
   "metadata": {},
   "outputs": [],
   "source": [
    "labels = np.concatenate([y for x, y in test], axis=0)\n",
    "cm = confusion_matrix(labels, model6.predict_classes(test))"
   ]
  },
  {
   "cell_type": "code",
   "execution_count": 288,
   "id": "4ba0fdf9",
   "metadata": {},
   "outputs": [
    {
     "data": {
      "text/plain": [
       "Text(0.5, 57.777777777777786, 'Predicted Labels')"
      ]
     },
     "execution_count": 288,
     "metadata": {},
     "output_type": "execute_result"
    },
    {
     "data": {
      "image/png": "[encoded data removed]",
      "text/plain": [
       "<Figure size 640x640 with 2 Axes>"
      ]
     },
     "metadata": {
      "needs_background": "light"
     },
     "output_type": "display_data"
    }
   ],
   "source": [
    "plt.figure(figsize=(8, 8), dpi=80)\n",
    "sns.heatmap(cm, cmap='Blues', annot=True, fmt='d')\n",
    "plt.ylabel('True Labels')\n",
    "plt.xlabel('Predicted Labels')"
   ]
  },
  {
   "cell_type": "markdown",
   "id": "a2bd2399",
   "metadata": {},
   "source": [
    "# Saving & Loading Models"
   ]
  },
  {
   "cell_type": "code",
   "execution_count": 293,
   "id": "6fa6f977",
   "metadata": {},
   "outputs": [],
   "source": [
    "import os\n",
    "\n",
    "model6.save('mnist.h5')"
   ]
  },
  {
   "cell_type": "code",
   "execution_count": 294,
   "id": "77de610f",
   "metadata": {},
   "outputs": [
    {
     "name": "stdout",
     "output_type": "stream",
     "text": [
      "WARNING:tensorflow:Error in loading the saved optimizer state. As a result, your model is starting with a freshly initialized optimizer.\n"
     ]
    },
    {
     "name": "stderr",
     "output_type": "stream",
     "text": [
      "WARNING:tensorflow:Error in loading the saved optimizer state. As a result, your model is starting with a freshly initialized optimizer.\n"
     ]
    }
   ],
   "source": [
    "loaded_model = keras.models.load_model('./mnist.h5')"
   ]
  },
  {
   "cell_type": "code",
   "execution_count": 295,
   "id": "72010ba4",
   "metadata": {},
   "outputs": [
    {
     "name": "stdout",
     "output_type": "stream",
     "text": [
      "79/79 [==============================] - 0s 3ms/step - loss: 0.0701 - accuracy: 0.9817\n"
     ]
    },
    {
     "data": {
      "text/plain": [
       "[0.07009829580783844, 0.9817000031471252]"
      ]
     },
     "execution_count": 295,
     "metadata": {},
     "output_type": "execute_result"
    }
   ],
   "source": [
    "loaded_model.evaluate(test)"
   ]
  },
  {
   "cell_type": "code",
   "execution_count": 296,
   "id": "125ac26f",
   "metadata": {},
   "outputs": [
    {
     "data": {
      "text/plain": [
       "'{\"class_name\": \"Sequential\", \"config\": {\"name\": \"sequential_38\", \"layers\": [{\"class_name\": \"InputLayer\", \"config\": {\"batch_input_shape\": [null, 28, 28, 1], \"dtype\": \"float32\", \"sparse\": false, \"ragged\": false, \"name\": \"input_38\"}}, {\"class_name\": \"Flatten\", \"config\": {\"name\": \"flatten_36\", \"trainable\": true, \"dtype\": \"float32\", \"data_format\": \"channels_last\"}}, {\"class_name\": \"Dense\", \"config\": {\"name\": \"dense_133\", \"trainable\": true, \"dtype\": \"float32\", \"units\": 512, \"activation\": \"linear\", \"use_bias\": true, \"kernel_initializer\": {\"class_name\": \"HeNormal\", \"config\": {\"seed\": null}}, \"bias_initializer\": {\"class_name\": \"Zeros\", \"config\": {}}, \"kernel_regularizer\": null, \"bias_regularizer\": null, \"activity_regularizer\": null, \"kernel_constraint\": null, \"bias_constraint\": null}}, {\"class_name\": \"LeakyReLU\", \"config\": {\"name\": \"leaky_re_lu_43\", \"trainable\": true, \"dtype\": \"float32\", \"alpha\": 0.20000000298023224}}, {\"class_name\": \"BatchNormalization\", \"config\": {\"name\": \"batch_normalization_52\", \"trainable\": true, \"dtype\": \"float32\", \"axis\": [1], \"momentum\": 0.99, \"epsilon\": 0.001, \"center\": true, \"scale\": true, \"beta_initializer\": {\"class_name\": \"Zeros\", \"config\": {}}, \"gamma_initializer\": {\"class_name\": \"Ones\", \"config\": {}}, \"moving_mean_initializer\": {\"class_name\": \"Zeros\", \"config\": {}}, \"moving_variance_initializer\": {\"class_name\": \"Ones\", \"config\": {}}, \"beta_regularizer\": null, \"gamma_regularizer\": null, \"beta_constraint\": null, \"gamma_constraint\": null}}, {\"class_name\": \"Dense\", \"config\": {\"name\": \"dense_134\", \"trainable\": true, \"dtype\": \"float32\", \"units\": 256, \"activation\": \"selu\", \"use_bias\": true, \"kernel_initializer\": {\"class_name\": \"LecunUniform\", \"config\": {\"seed\": null}}, \"bias_initializer\": {\"class_name\": \"Zeros\", \"config\": {}}, \"kernel_regularizer\": null, \"bias_regularizer\": null, \"activity_regularizer\": null, \"kernel_constraint\": null, \"bias_constraint\": null}}, {\"class_name\": \"Dense\", \"config\": {\"name\": \"dense_135\", \"trainable\": true, \"dtype\": \"float32\", \"units\": 128, \"activation\": \"linear\", \"use_bias\": true, \"kernel_initializer\": {\"class_name\": \"HeNormal\", \"config\": {\"seed\": null}}, \"bias_initializer\": {\"class_name\": \"Zeros\", \"config\": {}}, \"kernel_regularizer\": null, \"bias_regularizer\": null, \"activity_regularizer\": null, \"kernel_constraint\": null, \"bias_constraint\": null}}, {\"class_name\": \"LeakyReLU\", \"config\": {\"name\": \"leaky_re_lu_44\", \"trainable\": true, \"dtype\": \"float32\", \"alpha\": 0.20000000298023224}}, {\"class_name\": \"BatchNormalization\", \"config\": {\"name\": \"batch_normalization_53\", \"trainable\": true, \"dtype\": \"float32\", \"axis\": [1], \"momentum\": 0.99, \"epsilon\": 0.001, \"center\": true, \"scale\": true, \"beta_initializer\": {\"class_name\": \"Zeros\", \"config\": {}}, \"gamma_initializer\": {\"class_name\": \"Ones\", \"config\": {}}, \"moving_mean_initializer\": {\"class_name\": \"Zeros\", \"config\": {}}, \"moving_variance_initializer\": {\"class_name\": \"Ones\", \"config\": {}}, \"beta_regularizer\": null, \"gamma_regularizer\": null, \"beta_constraint\": null, \"gamma_constraint\": null}}, {\"class_name\": \"Dense\", \"config\": {\"name\": \"dense_136\", \"trainable\": true, \"dtype\": \"float32\", \"units\": 64, \"activation\": \"linear\", \"use_bias\": true, \"kernel_initializer\": {\"class_name\": \"HeNormal\", \"config\": {\"seed\": null}}, \"bias_initializer\": {\"class_name\": \"Zeros\", \"config\": {}}, \"kernel_regularizer\": null, \"bias_regularizer\": null, \"activity_regularizer\": null, \"kernel_constraint\": null, \"bias_constraint\": null}}, {\"class_name\": \"LeakyReLU\", \"config\": {\"name\": \"leaky_re_lu_45\", \"trainable\": true, \"dtype\": \"float32\", \"alpha\": 0.20000000298023224}}, {\"class_name\": \"BatchNormalization\", \"config\": {\"name\": \"batch_normalization_54\", \"trainable\": true, \"dtype\": \"float32\", \"axis\": [1], \"momentum\": 0.99, \"epsilon\": 0.001, \"center\": true, \"scale\": true, \"beta_initializer\": {\"class_name\": \"Zeros\", \"config\": {}}, \"gamma_initializer\": {\"class_name\": \"Ones\", \"config\": {}}, \"moving_mean_initializer\": {\"class_name\": \"Zeros\", \"config\": {}}, \"moving_variance_initializer\": {\"class_name\": \"Ones\", \"config\": {}}, \"beta_regularizer\": null, \"gamma_regularizer\": null, \"beta_constraint\": null, \"gamma_constraint\": null}}, {\"class_name\": \"Dense\", \"config\": {\"name\": \"dense_137\", \"trainable\": true, \"dtype\": \"float32\", \"units\": 32, \"activation\": \"linear\", \"use_bias\": true, \"kernel_initializer\": {\"class_name\": \"HeNormal\", \"config\": {\"seed\": null}}, \"bias_initializer\": {\"class_name\": \"Zeros\", \"config\": {}}, \"kernel_regularizer\": null, \"bias_regularizer\": null, \"activity_regularizer\": null, \"kernel_constraint\": null, \"bias_constraint\": null}}, {\"class_name\": \"LeakyReLU\", \"config\": {\"name\": \"leaky_re_lu_46\", \"trainable\": true, \"dtype\": \"float32\", \"alpha\": 0.20000000298023224}}, {\"class_name\": \"BatchNormalization\", \"config\": {\"name\": \"batch_normalization_55\", \"trainable\": true, \"dtype\": \"float32\", \"axis\": [1], \"momentum\": 0.99, \"epsilon\": 0.001, \"center\": true, \"scale\": true, \"beta_initializer\": {\"class_name\": \"Zeros\", \"config\": {}}, \"gamma_initializer\": {\"class_name\": \"Ones\", \"config\": {}}, \"moving_mean_initializer\": {\"class_name\": \"Zeros\", \"config\": {}}, \"moving_variance_initializer\": {\"class_name\": \"Ones\", \"config\": {}}, \"beta_regularizer\": null, \"gamma_regularizer\": null, \"beta_constraint\": null, \"gamma_constraint\": null}}, {\"class_name\": \"Dense\", \"config\": {\"name\": \"dense_138\", \"trainable\": true, \"dtype\": \"float32\", \"units\": 16, \"activation\": \"linear\", \"use_bias\": true, \"kernel_initializer\": {\"class_name\": \"HeNormal\", \"config\": {\"seed\": null}}, \"bias_initializer\": {\"class_name\": \"Zeros\", \"config\": {}}, \"kernel_regularizer\": null, \"bias_regularizer\": null, \"activity_regularizer\": null, \"kernel_constraint\": null, \"bias_constraint\": null}}, {\"class_name\": \"LeakyReLU\", \"config\": {\"name\": \"leaky_re_lu_47\", \"trainable\": true, \"dtype\": \"float32\", \"alpha\": 0.20000000298023224}}, {\"class_name\": \"BatchNormalization\", \"config\": {\"name\": \"batch_normalization_56\", \"trainable\": true, \"dtype\": \"float32\", \"axis\": [1], \"momentum\": 0.99, \"epsilon\": 0.001, \"center\": true, \"scale\": true, \"beta_initializer\": {\"class_name\": \"Zeros\", \"config\": {}}, \"gamma_initializer\": {\"class_name\": \"Ones\", \"config\": {}}, \"moving_mean_initializer\": {\"class_name\": \"Zeros\", \"config\": {}}, \"moving_variance_initializer\": {\"class_name\": \"Ones\", \"config\": {}}, \"beta_regularizer\": null, \"gamma_regularizer\": null, \"beta_constraint\": null, \"gamma_constraint\": null}}, {\"class_name\": \"Dense\", \"config\": {\"name\": \"dense_139\", \"trainable\": true, \"dtype\": \"float32\", \"units\": 10, \"activation\": \"softmax\", \"use_bias\": true, \"kernel_initializer\": {\"class_name\": \"GlorotNormal\", \"config\": {\"seed\": null}}, \"bias_initializer\": {\"class_name\": \"Zeros\", \"config\": {}}, \"kernel_regularizer\": null, \"bias_regularizer\": null, \"activity_regularizer\": null, \"kernel_constraint\": null, \"bias_constraint\": null}}]}, \"keras_version\": \"2.5.0\", \"backend\": \"tensorflow\"}'"
      ]
     },
     "execution_count": 296,
     "metadata": {},
     "output_type": "execute_result"
    }
   ],
   "source": [
    "model6.to_json()"
   ]
  },
  {
   "cell_type": "code",
   "execution_count": 297,
   "id": "4dde9afe",
   "metadata": {},
   "outputs": [],
   "source": [
    "import json"
   ]
  },
  {
   "cell_type": "code",
   "execution_count": 298,
   "id": "a66d2e53",
   "metadata": {},
   "outputs": [
    {
     "ename": "TypeError",
     "evalue": "dump() missing 2 required positional arguments: 'obj' and 'fp'",
     "output_type": "error",
     "traceback": [
      "\u001b[0;31m---------------------------------------------------------------------------\u001b[0m",
      "\u001b[0;31mTypeError\u001b[0m                                 Traceback (most recent call last)",
      "\u001b[0;32m/tmp/ipykernel_29638/433128903.py\u001b[0m in \u001b[0;36m<module>\u001b[0;34m\u001b[0m\n\u001b[0;32m----> 1\u001b[0;31m \u001b[0mjson\u001b[0m\u001b[0;34m.\u001b[0m\u001b[0mdump\u001b[0m\u001b[0;34m(\u001b[0m\u001b[0;34m)\u001b[0m\u001b[0;34m\u001b[0m\u001b[0;34m\u001b[0m\u001b[0m\n\u001b[0m\u001b[1;32m      2\u001b[0m \u001b[0mjson\u001b[0m\u001b[0;34m.\u001b[0m\u001b[0mload\u001b[0m\u001b[0;34m(\u001b[0m\u001b[0;34m)\u001b[0m\u001b[0;34m\u001b[0m\u001b[0;34m\u001b[0m\u001b[0m\n",
      "\u001b[0;31mTypeError\u001b[0m: dump() missing 2 required positional arguments: 'obj' and 'fp'"
     ]
    }
   ],
   "source": [
    "json.dump()\n",
    "json.load()"
   ]
  },
  {
   "cell_type": "code",
   "execution_count": null,
   "id": "26eb61c8",
   "metadata": {},
   "outputs": [],
   "source": [
    "model.to_yaml()"
   ]
  }
 ],
 "metadata": {
  "kernelspec": {
   "display_name": "Python 3 (ipykernel)",
   "language": "python",
   "name": "python3"
  },
  "language_info": {
   "codemirror_mode": {
    "name": "ipython",
    "version": 3
   },
   "file_extension": ".py",
   "mimetype": "text/x-python",
   "name": "python",
   "nbconvert_exporter": "python",
   "pygments_lexer": "ipython3",
   "version": "3.9.6"
  }
 },
 "nbformat": 4,
 "nbformat_minor": 5
}
