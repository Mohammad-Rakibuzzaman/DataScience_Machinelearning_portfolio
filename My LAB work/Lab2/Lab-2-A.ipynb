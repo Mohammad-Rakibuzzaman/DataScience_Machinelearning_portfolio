{
 "cells": [
  {
   "cell_type": "markdown",
   "id": "a76bccf1",
   "metadata": {},
   "source": [
    "# DS 422 - Machine Learning Driven Data Analysis I"
   ]
  },
  {
   "cell_type": "markdown",
   "id": "be938892",
   "metadata": {},
   "source": [
    "## Lab 2\n",
    "\n",
    "**Musabbir Hasan<br>**\n",
    "*musabbirhasansammak@outlook.com<br>*"
   ]
  },
  {
   "cell_type": "markdown",
   "id": "51197d6b",
   "metadata": {},
   "source": [
    "**Objectives:**\n",
    "1. To understand how `ndarray`, the foundational data structures behind almost all Python machine learning libraries works.\n",
    "2. To understand how `Series` and `DataFrame`, the primary two data structures of Pandas, can be used to work with structured data.\n",
    "3. To be able to comfortably read structured data of various formats using Pandas.\n",
    "4. Try Linear/Polynomial Regression models to predict housing price. \n",
    "5. Light introduction to Kaggle competitions and submitting our predictions to Kaggle."
   ]
  },
  {
   "cell_type": "markdown",
   "id": "6f61c3e8",
   "metadata": {},
   "source": [
    "## Software, Libraries, and Websites Requirements\n",
    "1. Python 3 with NumPy, Pandas, Matplotlib, Sklearn, and Jupyter. *Howerver, you can just install [Anaconda](https://www.anaconda.com/products/individual).*\n",
    "2. Git. *Please download Git for your respective platform.*\n",
    "3. Docker. *Will be used in final project.*\n",
    "4. Kaggle. *If you do not already have opened a Kaggle account, please do so [here](https://www.kaggle.com/)*."
   ]
  },
  {
   "cell_type": "markdown",
   "id": "e4617d9e",
   "metadata": {},
   "source": [
    "## Installation\n",
    "The aforementioned 4 libraries will be probably enough for the whole course. For Windows users, the best way to get those, I think, is to download and install the [Anaconda Individual Edition](https://www.anaconda.com/products/individual). My personal suggestion is to tick the **Add to path** option during installation even though the installer discourages to do so. It simplifies many of the unnecessary problems later. Linux or Mac users can install the libraries using `pip`."
   ]
  },
  {
   "cell_type": "markdown",
   "id": "d0264b55",
   "metadata": {},
   "source": [
    "## A Possible Workflow of Machine Learning\n",
    "\n",
    "1. Reading and writing data of variety of formats (csv, tsv, text, xlsx, json, sql, etc). Everything starts with getting and sending data.\n",
    "2. Exploratory data analysis of the acquired data. For example, visualizing data, calculating summaries.\n",
    "3. Data cleaning, manipulating, combining, normalizing, rehsaping, slicing, shuffling.\n",
    "4. Modeling with machine learning or other statistical algorithms.\n",
    "5. Presenting the results, addressing queries like why and how the model works, and what do not work and why, etc. Simply interpreting the model."
   ]
  },
  {
   "cell_type": "markdown",
   "id": "92bc358a",
   "metadata": {},
   "source": [
    "## NumPy & the `ndarray`\n",
    "**I want you to be comfortable with vectorized operations and broadcasting.**"
   ]
  },
  {
   "cell_type": "markdown",
   "id": "d1472438",
   "metadata": {},
   "source": [
    "`ndarray` is a n-dimensional array. Each array may contain data of only 1 type. It means you can create an array of any dimension you want. It will be fast and memory efficient. Let's create a 1D and 2D array."
   ]
  },
  {
   "cell_type": "code",
   "execution_count": null,
   "id": "1daea7fe",
   "metadata": {},
   "outputs": [],
   "source": [
    "import numpy as np"
   ]
  },
  {
   "cell_type": "code",
   "execution_count": null,
   "id": "e9b714f4",
   "metadata": {},
   "outputs": [],
   "source": [
    "array1d = np.array([1, 2, 3.5, 4, 5])\n",
    "array2d = np.asarray([\n",
    "    [1, 2, 3],\n",
    "    [4, 5, 6],\n",
    "    [7, 8, 9]\n",
    "])\n",
    "array = np.arange(10)"
   ]
  },
  {
   "cell_type": "markdown",
   "id": "2e6887d2",
   "metadata": {},
   "source": [
    "`array` copies input data by default. `asarray` does not copy if the input data is already `ndarray`. `arange` is like the NumPy version of `range`."
   ]
  },
  {
   "cell_type": "code",
   "execution_count": null,
   "id": "c6df7211",
   "metadata": {},
   "outputs": [],
   "source": [
    "x = np.array([1, 2, 3, 4, 5])\n",
    "y = np.asarray(x)\n",
    "z = np.array(x)\n",
    "print(id(x))\n",
    "print(id(y))\n",
    "print(id(z))"
   ]
  },
  {
   "cell_type": "code",
   "execution_count": null,
   "id": "4efa1815",
   "metadata": {},
   "outputs": [],
   "source": [
    "array1d"
   ]
  },
  {
   "cell_type": "code",
   "execution_count": null,
   "id": "c9c32c49",
   "metadata": {},
   "outputs": [],
   "source": [
    "array2d"
   ]
  },
  {
   "cell_type": "code",
   "execution_count": null,
   "id": "bf660c34",
   "metadata": {},
   "outputs": [],
   "source": [
    "array"
   ]
  },
  {
   "cell_type": "markdown",
   "id": "200d5ab9",
   "metadata": {},
   "source": [
    "**Let's check their shapes and dimensions.**"
   ]
  },
  {
   "cell_type": "code",
   "execution_count": null,
   "id": "cf4133ef",
   "metadata": {},
   "outputs": [],
   "source": [
    "print(array1d.shape)\n",
    "print(array1d.ndim)\n",
    "print(array2d.shape)\n",
    "print(array2d.ndim)"
   ]
  },
  {
   "cell_type": "markdown",
   "id": "d0aa897e",
   "metadata": {},
   "source": [
    "**Let's check their data types.**"
   ]
  },
  {
   "cell_type": "code",
   "execution_count": null,
   "id": "d7ff4770",
   "metadata": {},
   "outputs": [],
   "source": [
    "print(array1d.dtype)\n",
    "print(array2d.dtype)"
   ]
  },
  {
   "cell_type": "markdown",
   "id": "487345ec",
   "metadata": {},
   "source": [
    "**We can also cast an array into another data type.**"
   ]
  },
  {
   "cell_type": "code",
   "execution_count": null,
   "id": "82643816",
   "metadata": {},
   "outputs": [],
   "source": [
    "array1d = array1d.astype(np.int16)\n",
    "print(array1d)"
   ]
  },
  {
   "cell_type": "markdown",
   "id": "20a477cf",
   "metadata": {},
   "source": [
    "**Quiz 1. What other data types does NumPy support?**\n",
    "\n",
    "**Is there any easy way to create `ndarray`?**"
   ]
  },
  {
   "cell_type": "code",
   "execution_count": null,
   "id": "ddaba2f8",
   "metadata": {},
   "outputs": [],
   "source": [
    "np.zeros((5, 5))"
   ]
  },
  {
   "cell_type": "code",
   "execution_count": null,
   "id": "934e734b",
   "metadata": {},
   "outputs": [],
   "source": [
    "np.ones((2,2,3))"
   ]
  },
  {
   "cell_type": "code",
   "execution_count": null,
   "id": "134d9773",
   "metadata": {},
   "outputs": [],
   "source": [
    "np.empty((5, 3))"
   ]
  },
  {
   "cell_type": "code",
   "execution_count": null,
   "id": "62c389ce",
   "metadata": {},
   "outputs": [],
   "source": [
    "np.ones_like(np.zeros((5, 5)))"
   ]
  },
  {
   "cell_type": "markdown",
   "id": "e69546c1",
   "metadata": {},
   "source": [
    "**Similarly, you can use `np.zeros_like`, `np.empty_like` functions to create arrays of specific shapes.**\n",
    "\n",
    "**Quiz 2. Find out what `np.eye` and `np.identity` functions do. They also create `ndarray` of given dimension. But what's the difference?**"
   ]
  },
  {
   "cell_type": "markdown",
   "id": "193746dd",
   "metadata": {},
   "source": [
    "**No matter what operation you perform with a `ndarray` and a scaler, it will be performed on all the elements of the array, and it will return a new copy. This is usually called vectorization**"
   ]
  },
  {
   "cell_type": "code",
   "execution_count": null,
   "id": "efbc85f1",
   "metadata": {},
   "outputs": [],
   "source": [
    "a = np.ones((5, 5))\n",
    "a"
   ]
  },
  {
   "cell_type": "code",
   "execution_count": null,
   "id": "8c9c3965",
   "metadata": {},
   "outputs": [],
   "source": [
    "a - 1"
   ]
  },
  {
   "cell_type": "markdown",
   "id": "a820ccd9",
   "metadata": {},
   "source": [
    "**Slicing a `ndarray` returns a *view*, not a *copy* like python lists, and therefore, any operation performed on it will change on the actual array.**"
   ]
  },
  {
   "cell_type": "code",
   "execution_count": null,
   "id": "6fbaa8e8",
   "metadata": {},
   "outputs": [],
   "source": [
    "a = np.arange(10)\n",
    "a"
   ]
  },
  {
   "cell_type": "markdown",
   "id": "24e7da8f",
   "metadata": {},
   "source": [
    "**Slicing like Python lists.**"
   ]
  },
  {
   "cell_type": "code",
   "execution_count": null,
   "id": "930918fa",
   "metadata": {},
   "outputs": [],
   "source": [
    "a[0:3]"
   ]
  },
  {
   "cell_type": "code",
   "execution_count": null,
   "id": "e84ff1a0",
   "metadata": {},
   "outputs": [],
   "source": [
    "a[:]"
   ]
  },
  {
   "cell_type": "code",
   "execution_count": null,
   "id": "ae921f0b",
   "metadata": {},
   "outputs": [],
   "source": [
    "a[0:-1]"
   ]
  },
  {
   "cell_type": "code",
   "execution_count": null,
   "id": "5ce7df7b",
   "metadata": {},
   "outputs": [],
   "source": [
    "print(a[-1])\n",
    "print(a[-2])\n",
    "print(a[-3])"
   ]
  },
  {
   "cell_type": "markdown",
   "id": "2509ca57",
   "metadata": {},
   "source": [
    "**Quiz 3. Write a code that gives you the first element of *a*. But use negative index, and most importantly, you can not use hard-coded index. For example, you can not simply use `a[-10]`.**\n",
    "\n",
    "**To avoid unnecessary copying and to be memory efficient, slicing `ndarray` returns a view, not a copy.**"
   ]
  },
  {
   "cell_type": "code",
   "execution_count": null,
   "id": "aeb09cfb",
   "metadata": {},
   "outputs": [],
   "source": [
    "b = [1, 2, 3, 4, 5, 6, 7, 8, 9]"
   ]
  },
  {
   "cell_type": "code",
   "execution_count": null,
   "id": "12b9ffc2",
   "metadata": {},
   "outputs": [],
   "source": [
    "c = b[:5]\n",
    "d = a[:5]"
   ]
  },
  {
   "cell_type": "code",
   "execution_count": null,
   "id": "64677cab",
   "metadata": {},
   "outputs": [],
   "source": [
    "c[0] = 100\n",
    "d[0] = 100"
   ]
  },
  {
   "cell_type": "code",
   "execution_count": null,
   "id": "2e8cde6c",
   "metadata": {},
   "outputs": [],
   "source": [
    "print(a)\n",
    "print(b)"
   ]
  },
  {
   "cell_type": "markdown",
   "id": "75305243",
   "metadata": {},
   "source": [
    "**Indexing higher dimensional arrays.**"
   ]
  },
  {
   "cell_type": "code",
   "execution_count": null,
   "id": "6014915f",
   "metadata": {},
   "outputs": [],
   "source": [
    "a = np.array([\n",
    "    [0, 1, 2],\n",
    "    [3, 4, 5],\n",
    "    [6, 7, 8]\n",
    "])\n",
    "a"
   ]
  },
  {
   "cell_type": "code",
   "execution_count": null,
   "id": "0129000e",
   "metadata": {},
   "outputs": [],
   "source": [
    "a[1, 1]"
   ]
  },
  {
   "cell_type": "code",
   "execution_count": null,
   "id": "b8c95411",
   "metadata": {},
   "outputs": [],
   "source": [
    "a[:, :]"
   ]
  },
  {
   "cell_type": "code",
   "execution_count": null,
   "id": "eb9074f4",
   "metadata": {},
   "outputs": [],
   "source": [
    "a[0,:]"
   ]
  },
  {
   "cell_type": "code",
   "execution_count": null,
   "id": "763c7da3",
   "metadata": {},
   "outputs": [],
   "source": [
    "a[:, 0]"
   ]
  },
  {
   "cell_type": "markdown",
   "id": "11edd55d",
   "metadata": {},
   "source": [
    "**Indexing with logical indices.**"
   ]
  },
  {
   "cell_type": "code",
   "execution_count": null,
   "id": "325dff07",
   "metadata": {},
   "outputs": [],
   "source": [
    "a = np.arange(10)\n",
    "a"
   ]
  },
  {
   "cell_type": "code",
   "execution_count": null,
   "id": "89aad3b5",
   "metadata": {},
   "outputs": [],
   "source": [
    "l = [False for _ in range(10)]\n",
    "l[3] = True\n",
    "l[7] = True\n",
    "l"
   ]
  },
  {
   "cell_type": "code",
   "execution_count": null,
   "id": "d2d13e05",
   "metadata": {},
   "outputs": [],
   "source": [
    "a[l]"
   ]
  },
  {
   "cell_type": "code",
   "execution_count": null,
   "id": "b52014d9",
   "metadata": {},
   "outputs": [],
   "source": [
    "a > 5"
   ]
  },
  {
   "cell_type": "code",
   "execution_count": null,
   "id": "54c028f4",
   "metadata": {},
   "outputs": [],
   "source": [
    "a[a > 5]"
   ]
  },
  {
   "cell_type": "markdown",
   "id": "8472b81b",
   "metadata": {},
   "source": [
    "**Broadcasting**"
   ]
  },
  {
   "cell_type": "code",
   "execution_count": null,
   "id": "b6c13d3f",
   "metadata": {},
   "outputs": [],
   "source": [
    "a = np.array([\n",
    "    [0, 1, 2],\n",
    "    [3, 4, 5],\n",
    "    [6, 7, 8]\n",
    "])\n",
    "a"
   ]
  },
  {
   "cell_type": "code",
   "execution_count": null,
   "id": "e6782b60",
   "metadata": {},
   "outputs": [],
   "source": [
    "b = np.arange(3)\n",
    "b"
   ]
  },
  {
   "cell_type": "code",
   "execution_count": null,
   "id": "64ed0a27",
   "metadata": {},
   "outputs": [],
   "source": [
    "a + b"
   ]
  },
  {
   "cell_type": "code",
   "execution_count": null,
   "id": "efd2e435",
   "metadata": {},
   "outputs": [],
   "source": [
    "c = np.array([\n",
    "    [0],\n",
    "    [1],\n",
    "    [2]\n",
    "])\n",
    "c"
   ]
  },
  {
   "cell_type": "code",
   "execution_count": null,
   "id": "e98298b8",
   "metadata": {},
   "outputs": [],
   "source": [
    "a + c"
   ]
  },
  {
   "cell_type": "markdown",
   "id": "c6c8510d",
   "metadata": {},
   "source": [
    "## Pandas Data Structures"
   ]
  },
  {
   "cell_type": "markdown",
   "id": "ca8ab829",
   "metadata": {},
   "source": [
    "### Series\n",
    "- An array like object.\n",
    "- Contains an array of data.\n",
    "- Any single data type supported by NumPy.\n",
    "- Has labels associated with the data."
   ]
  },
  {
   "cell_type": "code",
   "execution_count": null,
   "id": "9b710316",
   "metadata": {},
   "outputs": [],
   "source": [
    "import pandas as pd"
   ]
  },
  {
   "cell_type": "markdown",
   "id": "c93abd4e",
   "metadata": {},
   "source": [
    "**By default, Series assigns numbers 0 to N-1 as labels for the data.**"
   ]
  },
  {
   "cell_type": "code",
   "execution_count": null,
   "id": "34bb3214",
   "metadata": {},
   "outputs": [],
   "source": [
    "series1 = pd.Series([1,2,3,4,5])\n",
    "series1"
   ]
  },
  {
   "cell_type": "markdown",
   "id": "324de3d8",
   "metadata": {},
   "source": [
    "**But we can assign labels by our own.**"
   ]
  },
  {
   "cell_type": "code",
   "execution_count": null,
   "id": "d3d6f561",
   "metadata": {},
   "outputs": [],
   "source": [
    "series2 = pd.Series(['Hello', 'Pandas', 'Series'], index=['a', 'b', 'c'])\n",
    "series2"
   ]
  },
  {
   "cell_type": "markdown",
   "id": "6b77de5f",
   "metadata": {},
   "source": [
    "**We can also use dictionary to create a Series.**"
   ]
  },
  {
   "cell_type": "code",
   "execution_count": null,
   "id": "501ccb33",
   "metadata": {},
   "outputs": [],
   "source": [
    "dic = {\n",
    "    'a': 'Hello',\n",
    "    'b': 'Pandas',\n",
    "    'c': 'Series'\n",
    "}\n",
    "series3 = pd.Series(dic)\n",
    "series3"
   ]
  },
  {
   "cell_type": "markdown",
   "id": "0748e4b4",
   "metadata": {},
   "source": [
    "**We can convert Series to NumPy array easily.**"
   ]
  },
  {
   "cell_type": "code",
   "execution_count": null,
   "id": "eae2d6cb",
   "metadata": {},
   "outputs": [],
   "source": [
    "series2.values"
   ]
  },
  {
   "cell_type": "markdown",
   "id": "3645d4ec",
   "metadata": {},
   "source": [
    "**We can access any item with the indices.**"
   ]
  },
  {
   "cell_type": "code",
   "execution_count": null,
   "id": "dbfcc053",
   "metadata": {},
   "outputs": [],
   "source": [
    "series2.index"
   ]
  },
  {
   "cell_type": "code",
   "execution_count": null,
   "id": "0d6f7ffc",
   "metadata": {},
   "outputs": [],
   "source": [
    "series2['a']"
   ]
  },
  {
   "cell_type": "code",
   "execution_count": null,
   "id": "3ede93e5",
   "metadata": {},
   "outputs": [],
   "source": [
    "series1[[1,2,3]]"
   ]
  },
  {
   "cell_type": "markdown",
   "id": "24256c55",
   "metadata": {},
   "source": [
    "**We can subset series with some logical conditions.**"
   ]
  },
  {
   "cell_type": "code",
   "execution_count": null,
   "id": "06faec3c",
   "metadata": {},
   "outputs": [],
   "source": [
    "series1[series1 > 2]"
   ]
  },
  {
   "cell_type": "code",
   "execution_count": null,
   "id": "986847bf",
   "metadata": {},
   "outputs": [],
   "source": [
    "series1 > 2"
   ]
  },
  {
   "cell_type": "code",
   "execution_count": null,
   "id": "6acd59b7",
   "metadata": {},
   "outputs": [],
   "source": [
    "series1[[False, False, True, True, True]]"
   ]
  },
  {
   "cell_type": "code",
   "execution_count": null,
   "id": "87ed8f29",
   "metadata": {},
   "outputs": [],
   "source": [
    "series2[series2 == 'Hello']"
   ]
  },
  {
   "cell_type": "code",
   "execution_count": null,
   "id": "dac9bbc0",
   "metadata": {},
   "outputs": [],
   "source": [
    "series2 == 'Hello'"
   ]
  },
  {
   "cell_type": "markdown",
   "id": "259f780c",
   "metadata": {},
   "source": [
    "**Null values.**"
   ]
  },
  {
   "cell_type": "code",
   "execution_count": null,
   "id": "f3546beb",
   "metadata": {},
   "outputs": [],
   "source": [
    "series4 = pd.Series(['Hello', 'Pandas', 'Series', np.nan], index=['a', 'b', 'c', 'd'])\n",
    "series4"
   ]
  },
  {
   "cell_type": "code",
   "execution_count": null,
   "id": "edf81667",
   "metadata": {},
   "outputs": [],
   "source": [
    "series4.isnull()"
   ]
  },
  {
   "cell_type": "code",
   "execution_count": null,
   "id": "486f86e3",
   "metadata": {},
   "outputs": [],
   "source": [
    "series4[series4.isnull()]"
   ]
  },
  {
   "cell_type": "code",
   "execution_count": null,
   "id": "5db0026e",
   "metadata": {},
   "outputs": [],
   "source": [
    "series4[series4.isnull()] = 'Something'\n",
    "series4"
   ]
  },
  {
   "cell_type": "markdown",
   "id": "68115f4d",
   "metadata": {},
   "source": [
    "**Finally, a Series can have its name. So can the index of the Series.**"
   ]
  },
  {
   "cell_type": "code",
   "execution_count": null,
   "id": "97abf612",
   "metadata": {},
   "outputs": [],
   "source": [
    "series4.name = 'Words'\n",
    "series4.index.name = 'Index'\n",
    "series4"
   ]
  },
  {
   "cell_type": "markdown",
   "id": "c53b1a79",
   "metadata": {},
   "source": [
    "### Data Frame\n",
    "You can think of it like a list of Series."
   ]
  },
  {
   "cell_type": "code",
   "execution_count": null,
   "id": "1fb848df",
   "metadata": {},
   "outputs": [],
   "source": [
    "dic = {\n",
    "    'feature1': [21, 32, 33, 55],\n",
    "    'feature2': [1, 6, 7, 3],\n",
    "    'feature3': [12, 34, 45, 67]\n",
    "}"
   ]
  },
  {
   "cell_type": "code",
   "execution_count": null,
   "id": "07463c20",
   "metadata": {},
   "outputs": [],
   "source": [
    "df = pd.DataFrame(dic)\n",
    "df"
   ]
  },
  {
   "cell_type": "markdown",
   "id": "94e778ec",
   "metadata": {},
   "source": [
    "**We can access columns of a DataFrame by using dictionary like styles. Notice that the index of the output Series is same as the DataFrame.**"
   ]
  },
  {
   "cell_type": "code",
   "execution_count": null,
   "id": "61047202",
   "metadata": {},
   "outputs": [],
   "source": [
    "df.feature1"
   ]
  },
  {
   "cell_type": "code",
   "execution_count": null,
   "id": "e8df4674",
   "metadata": {},
   "outputs": [],
   "source": [
    "df['feature2']"
   ]
  },
  {
   "cell_type": "markdown",
   "id": "8b3ed8a1",
   "metadata": {},
   "source": [
    "**We can create and delete a new feature using dictionary like style.**"
   ]
  },
  {
   "cell_type": "code",
   "execution_count": null,
   "id": "d916e7c9",
   "metadata": {},
   "outputs": [],
   "source": [
    "df['feature4'] = [145, 155, 167, 159]\n",
    "df"
   ]
  },
  {
   "cell_type": "code",
   "execution_count": null,
   "id": "850c373e",
   "metadata": {},
   "outputs": [],
   "source": [
    "del df['feature4']\n",
    "df"
   ]
  },
  {
   "cell_type": "markdown",
   "id": "9ee3aeec",
   "metadata": {},
   "source": [
    "**Indexing DataFrame.**"
   ]
  },
  {
   "cell_type": "code",
   "execution_count": null,
   "id": "6c9dc6dd",
   "metadata": {},
   "outputs": [],
   "source": [
    "df[df.feature1 > 25]"
   ]
  },
  {
   "cell_type": "code",
   "execution_count": null,
   "id": "b939e9c1",
   "metadata": {},
   "outputs": [],
   "source": [
    "df.loc[(df.feature1 > 25) & (df.feature2 > 3)]"
   ]
  },
  {
   "cell_type": "code",
   "execution_count": null,
   "id": "0495e93c",
   "metadata": {},
   "outputs": [],
   "source": [
    "df.loc[(df.feature1 > 25) & (df.feature2 > 3), ['feature1']]"
   ]
  },
  {
   "cell_type": "markdown",
   "id": "9f7fdd14",
   "metadata": {},
   "source": [
    "## Data Loading\n",
    "- **`read_csv`**: Loads data from a file or URL using comma as default delimiter. Please read details in [read_csv](https://pandas.pydata.org/pandas-docs/stable/reference/api/pandas.read_csv.html)\n",
    "- **`read_table`**: Loads data from a file or URL using tab as default delimiter. Please read details in [read_table](https://pandas.pydata.org/pandas-docs/stable/reference/api/pandas.read_table.html)\n",
    "- **`read_json`**: Reads JSON files. Please read details in [read_json](https://pandas.pydata.org/pandas-docs/stable/reference/api/pandas.read_json.html)\n",
    "- **`read_excel`**: Reads XLSX files. Please read details in [read_excel](https://pandas.pydata.org/pandas-docs/stable/reference/api/pandas.read_excel.html)\n",
    "- **`open`**: To open any file using plain Python. Please read details in [Python File IO](https://docs.python.org/3/tutorial/inputoutput.html#reading-and-writing-files)"
   ]
  },
  {
   "cell_type": "markdown",
   "id": "a6be60e3",
   "metadata": {},
   "source": [
    "### Data Loading Examples (CSV/TSV Files)"
   ]
  },
  {
   "cell_type": "markdown",
   "id": "ffbb7bda",
   "metadata": {},
   "source": [
    "**Pandas usually infers data type automatically, assumes top row is the header row, and creates index automatically.**"
   ]
  },
  {
   "cell_type": "code",
   "execution_count": null,
   "id": "82e6351c",
   "metadata": {},
   "outputs": [],
   "source": [
    "dummy = pd.read_csv('./dummy-data/dummy1.csv')\n",
    "dummy.head(2)"
   ]
  },
  {
   "cell_type": "markdown",
   "id": "362f1c11",
   "metadata": {},
   "source": [
    "**You can use the index column to access any row in the data frame.**"
   ]
  },
  {
   "cell_type": "code",
   "execution_count": null,
   "id": "729a153b",
   "metadata": {},
   "outputs": [],
   "source": [
    "dummy.loc[0, :]"
   ]
  },
  {
   "cell_type": "markdown",
   "id": "d2d50a28",
   "metadata": {},
   "source": [
    "**However, you can choos any specific column to be the index of the data frame. Also notice that there is actually no difference between `read_csv` and `read_table` except for `sep` parameter.**"
   ]
  },
  {
   "cell_type": "code",
   "execution_count": null,
   "id": "26feab92",
   "metadata": {},
   "outputs": [],
   "source": [
    "dummy = pd.read_table('./dummy-data/dummy1.csv', index_col='feature5', sep=',')\n",
    "dummy.head()"
   ]
  },
  {
   "cell_type": "markdown",
   "id": "11b9c3db",
   "metadata": {},
   "source": [
    "**But make sure that you are using that index column to access your data.**"
   ]
  },
  {
   "cell_type": "code",
   "execution_count": null,
   "id": "3cd7c03d",
   "metadata": {},
   "outputs": [],
   "source": [
    "dummy.loc[12,:]"
   ]
  },
  {
   "cell_type": "markdown",
   "id": "1bb820db",
   "metadata": {},
   "source": [
    "**If your dataset does not have any header, tell Pandas. Otherwise, it will use the first observation as a header.**"
   ]
  },
  {
   "cell_type": "code",
   "execution_count": null,
   "id": "e9b35826",
   "metadata": {},
   "outputs": [],
   "source": [
    "dummy = pd.read_csv('./dummy-data/dummy2.csv')\n",
    "dummy.tail(2)"
   ]
  },
  {
   "cell_type": "markdown",
   "id": "339d96c9",
   "metadata": {},
   "source": [
    "**If you tell pandas that there is no header, it will assign some random header.**"
   ]
  },
  {
   "cell_type": "code",
   "execution_count": null,
   "id": "758b3fe0",
   "metadata": {},
   "outputs": [],
   "source": [
    "dummy = pd.read_csv('./dummy-data/dummy2.csv', header=None)\n",
    "dummy.sample(frac=.5)"
   ]
  },
  {
   "cell_type": "markdown",
   "id": "d8022027",
   "metadata": {},
   "source": [
    "**You can supply your preferred column names if you want.**"
   ]
  },
  {
   "cell_type": "code",
   "execution_count": null,
   "id": "1ed9f173",
   "metadata": {},
   "outputs": [],
   "source": [
    "names = ['feature' + str(i) for i in range(1, 7)]\n",
    "dummy = pd.read_csv('./dummy-data/dummy2.csv', header=None, names=names)\n",
    "dummy.sample(n=3)"
   ]
  },
  {
   "cell_type": "markdown",
   "id": "4c78e407",
   "metadata": {},
   "source": []
  },
  {
   "cell_type": "markdown",
   "id": "b9d5e104",
   "metadata": {},
   "source": [
    "### Data Loading Examples (Excel Files)\n",
    "My personal suggestion is to avoid excel as much as possible if you are going to work with Python."
   ]
  },
  {
   "cell_type": "code",
   "execution_count": null,
   "id": "c4f43900",
   "metadata": {},
   "outputs": [],
   "source": [
    "dummy = pd.read_excel('./dummy-data/dummy.xlsx', sheet_name=0)\n",
    "dummy.iloc[1:5]"
   ]
  },
  {
   "cell_type": "markdown",
   "id": "389485d9",
   "metadata": {},
   "source": [
    "### Data Loading Examples (JSON)"
   ]
  },
  {
   "cell_type": "code",
   "execution_count": null,
   "id": "e380fc99",
   "metadata": {},
   "outputs": [],
   "source": [
    "dummy = pd.read_json('./dummy-data/dummy.json')\n",
    "dummy.iloc[0:3, 0:4]"
   ]
  }
 ],
 "metadata": {
  "kernelspec": {
   "display_name": "Python 3",
   "language": "python",
   "name": "python3"
  },
  "language_info": {
   "codemirror_mode": {
    "name": "ipython",
    "version": 3
   },
   "file_extension": ".py",
   "mimetype": "text/x-python",
   "name": "python",
   "nbconvert_exporter": "python",
   "pygments_lexer": "ipython3",
   "version": "3.8.10"
  }
 },
 "nbformat": 4,
 "nbformat_minor": 5
}
