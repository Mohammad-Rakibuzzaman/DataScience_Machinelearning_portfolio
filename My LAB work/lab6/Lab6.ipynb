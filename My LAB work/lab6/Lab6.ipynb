{
 "cells": [
  {
   "cell_type": "markdown",
   "id": "9e95a393",
   "metadata": {},
   "source": [
    "# Lab VI"
   ]
  },
  {
   "cell_type": "code",
   "execution_count": null,
   "id": "68da4564",
   "metadata": {},
   "outputs": [],
   "source": [
    "import numpy as np\n",
    "import torch"
   ]
  },
  {
   "cell_type": "markdown",
   "id": "0f6a8899",
   "metadata": {},
   "source": [
    "# Tensors"
   ]
  },
  {
   "cell_type": "markdown",
   "id": "91bd6922",
   "metadata": {},
   "source": [
    "*Tensor is a n-dimensional array, it means that it can have any number of dimensions.NumPy `ndarray` can not be loaded into GPUs. However, `tensor`s can do so.*"
   ]
  },
  {
   "cell_type": "code",
   "execution_count": null,
   "id": "558e18aa",
   "metadata": {},
   "outputs": [],
   "source": [
    "x = torch.tensor(4.)\n",
    "x"
   ]
  },
  {
   "cell_type": "code",
   "execution_count": null,
   "id": "bee3e863",
   "metadata": {},
   "outputs": [],
   "source": [
    "y = torch.tensor([1, 2, 3, 4, 5.0])\n",
    "y"
   ]
  },
  {
   "cell_type": "code",
   "execution_count": null,
   "id": "4adcff19",
   "metadata": {},
   "outputs": [],
   "source": [
    "z = torch.tensor([\n",
    "    [1, 2, 3],\n",
    "    [3, 4, 5],\n",
    "    [6, 7, 8]\n",
    "])\n",
    "z"
   ]
  },
  {
   "cell_type": "markdown",
   "id": "85f684f5",
   "metadata": {},
   "source": [
    "*We can use both NumPy stype `shape` or PyTorch specific `size()` function to get the size of the tensor.**"
   ]
  },
  {
   "cell_type": "code",
   "execution_count": null,
   "id": "40b619dd",
   "metadata": {},
   "outputs": [],
   "source": [
    "print(x.shape)\n",
    "print(y.size())\n",
    "print(z.shape)"
   ]
  },
  {
   "cell_type": "code",
   "execution_count": null,
   "id": "d7725e0c",
   "metadata": {},
   "outputs": [],
   "source": [
    "print(x.dtype)\n",
    "print(y.dtype)\n",
    "print(z.dtype)"
   ]
  },
  {
   "cell_type": "markdown",
   "id": "6a606991",
   "metadata": {},
   "source": [
    "*PyTorch is perfectly compatible with NumPy. We use `from_numpy()` to create `tensor` from `ndarray`, and use `numpy()` to convert a `tensor` into a `ndarray`. However, converting between them does not change the memory location of them. So be careful.*"
   ]
  },
  {
   "cell_type": "code",
   "execution_count": null,
   "id": "75493d3d",
   "metadata": {},
   "outputs": [],
   "source": [
    "n = np.arange(16).reshape(4, 4)\n",
    "n"
   ]
  },
  {
   "cell_type": "code",
   "execution_count": null,
   "id": "4b6369ab",
   "metadata": {},
   "outputs": [],
   "source": [
    "tn = torch.from_numpy(n)\n",
    "tn"
   ]
  },
  {
   "cell_type": "code",
   "execution_count": null,
   "id": "1988a444",
   "metadata": {},
   "outputs": [],
   "source": [
    "tn.numpy()"
   ]
  },
  {
   "cell_type": "code",
   "execution_count": null,
   "id": "36bb22be",
   "metadata": {},
   "outputs": [],
   "source": [
    "print(n.dtype)\n",
    "print(tn.dtype)"
   ]
  },
  {
   "cell_type": "markdown",
   "id": "36709f37",
   "metadata": {},
   "source": [
    "*PyTorch even has NumPy like interface for creating tensors. Common utility functions for creating a `tensor` include `empty`, `ones`, `zeros`, `rand`, `randint`, etc., and their corresponding `empty_like`, `rand_like`, `randint_like`, etc.*"
   ]
  },
  {
   "cell_type": "code",
   "execution_count": null,
   "id": "2ba7b600",
   "metadata": {
    "scrolled": true
   },
   "outputs": [],
   "source": [
    "x = torch.empty(2, 2)\n",
    "x"
   ]
  },
  {
   "cell_type": "code",
   "execution_count": null,
   "id": "51ae7608",
   "metadata": {},
   "outputs": [],
   "source": [
    "y = torch.zeros(3, 6)\n",
    "y"
   ]
  },
  {
   "cell_type": "code",
   "execution_count": null,
   "id": "f75b414f",
   "metadata": {},
   "outputs": [],
   "source": [
    "o = torch.ones(2, 2)\n",
    "o"
   ]
  },
  {
   "cell_type": "code",
   "execution_count": null,
   "id": "78db5a32",
   "metadata": {},
   "outputs": [],
   "source": [
    "z = torch.eye(4)\n",
    "z"
   ]
  },
  {
   "cell_type": "code",
   "execution_count": null,
   "id": "ae286eca",
   "metadata": {},
   "outputs": [],
   "source": [
    "torch.ones_like(z, dtype=torch.float32)"
   ]
  },
  {
   "cell_type": "code",
   "execution_count": null,
   "id": "5183e550",
   "metadata": {},
   "outputs": [],
   "source": [
    "torch.rand(2, 2)"
   ]
  },
  {
   "cell_type": "markdown",
   "id": "ea1b41e0",
   "metadata": {},
   "source": [
    "*Slicing and indexing is similar to NumPy. However, we can use `item` to get the actual value if the tensor has only one item.*"
   ]
  },
  {
   "cell_type": "code",
   "execution_count": null,
   "id": "351739df",
   "metadata": {},
   "outputs": [],
   "source": [
    "x = torch.tensor(5.)\n",
    "x"
   ]
  },
  {
   "cell_type": "code",
   "execution_count": null,
   "id": "14d0749c",
   "metadata": {},
   "outputs": [],
   "source": [
    "x.item()"
   ]
  },
  {
   "cell_type": "markdown",
   "id": "8ab649be",
   "metadata": {},
   "source": [
    "*We can use `view` function to reshape a tensor.*"
   ]
  },
  {
   "cell_type": "code",
   "execution_count": null,
   "id": "8b70c656",
   "metadata": {},
   "outputs": [],
   "source": [
    "x = torch.randint(0, 5, (5, 4))\n",
    "x"
   ]
  },
  {
   "cell_type": "code",
   "execution_count": null,
   "id": "56298a35",
   "metadata": {},
   "outputs": [],
   "source": [
    "y = x.view(2, 10)\n",
    "y"
   ]
  },
  {
   "cell_type": "code",
   "execution_count": null,
   "id": "c24ac8eb",
   "metadata": {},
   "outputs": [],
   "source": [
    "y.reshape(2, 10)"
   ]
  },
  {
   "cell_type": "code",
   "execution_count": null,
   "id": "19432698",
   "metadata": {},
   "outputs": [],
   "source": [
    "y.view(4, 5)"
   ]
  },
  {
   "cell_type": "code",
   "execution_count": null,
   "id": "31426ab6",
   "metadata": {},
   "outputs": [],
   "source": [
    "y"
   ]
  },
  {
   "cell_type": "code",
   "execution_count": null,
   "id": "44cc96cc",
   "metadata": {},
   "outputs": [],
   "source": [
    "y.view(4, -1)"
   ]
  },
  {
   "cell_type": "markdown",
   "id": "404ee7d5",
   "metadata": {},
   "source": [
    "*`unsqueeze` can add a new dimension at the specified position.*"
   ]
  },
  {
   "cell_type": "code",
   "execution_count": null,
   "id": "c9023c01",
   "metadata": {},
   "outputs": [],
   "source": [
    "x.size()"
   ]
  },
  {
   "cell_type": "code",
   "execution_count": null,
   "id": "31079aab",
   "metadata": {},
   "outputs": [],
   "source": [
    "torch.unsqueeze(x, 0).shape"
   ]
  },
  {
   "cell_type": "markdown",
   "id": "326e475a",
   "metadata": {},
   "source": [
    "*We can concatenate two tensors together.*"
   ]
  },
  {
   "cell_type": "code",
   "execution_count": null,
   "id": "ca776146",
   "metadata": {},
   "outputs": [],
   "source": [
    "x = torch.ones(2, 2)\n",
    "y = torch.zeros(2, 4)"
   ]
  },
  {
   "cell_type": "code",
   "execution_count": null,
   "id": "f725e0cf",
   "metadata": {},
   "outputs": [],
   "source": [
    "x"
   ]
  },
  {
   "cell_type": "code",
   "execution_count": null,
   "id": "ada616f4",
   "metadata": {},
   "outputs": [],
   "source": [
    "y"
   ]
  },
  {
   "cell_type": "code",
   "execution_count": null,
   "id": "28d73915",
   "metadata": {},
   "outputs": [],
   "source": [
    "z = torch.cat([x, y], dim=1)\n",
    "z"
   ]
  },
  {
   "cell_type": "code",
   "execution_count": null,
   "id": "30ee89b8",
   "metadata": {},
   "outputs": [],
   "source": [
    "torch.cat([z, torch.ones(1, 6)], dim=0)"
   ]
  },
  {
   "cell_type": "markdown",
   "id": "62a59203",
   "metadata": {},
   "source": [
    "*Finally, we can find out the device that our tensors are running on.**"
   ]
  },
  {
   "cell_type": "code",
   "execution_count": null,
   "id": "aa3ec90c",
   "metadata": {},
   "outputs": [],
   "source": [
    "x"
   ]
  },
  {
   "cell_type": "markdown",
   "id": "056befe5",
   "metadata": {},
   "source": [
    "# Gradients"
   ]
  },
  {
   "cell_type": "code",
   "execution_count": null,
   "id": "b8f60d3d",
   "metadata": {},
   "outputs": [],
   "source": [
    "x = torch.tensor(5.)\n",
    "w = torch.tensor(2., requires_grad=True)\n",
    "b = torch.tensor(3., requires_grad=True)"
   ]
  },
  {
   "cell_type": "code",
   "execution_count": null,
   "id": "cdad6894",
   "metadata": {},
   "outputs": [],
   "source": [
    "y = w*x + b\n",
    "z = 3*y\n",
    "z"
   ]
  },
  {
   "cell_type": "markdown",
   "id": "a6992716",
   "metadata": {},
   "source": [
    "*We can automatically calculate the derivatives of `y` with respect to its parameters which have `requires_grad=True` set.*"
   ]
  },
  {
   "cell_type": "code",
   "execution_count": null,
   "id": "677ecd37",
   "metadata": {},
   "outputs": [],
   "source": [
    "z.backward()"
   ]
  },
  {
   "cell_type": "code",
   "execution_count": null,
   "id": "71093629",
   "metadata": {},
   "outputs": [],
   "source": [
    "print('dy/dw: ', w.grad)\n",
    "print('dy/db: ', b.grad)"
   ]
  },
  {
   "cell_type": "markdown",
   "id": "2d1a517d",
   "metadata": {},
   "source": [
    "*If you do not want to calculate gradients for some operation, you can use `with torch.no_grad()`.*"
   ]
  },
  {
   "cell_type": "code",
   "execution_count": null,
   "id": "51ed41a7",
   "metadata": {},
   "outputs": [],
   "source": [
    "with torch.no_grad():\n",
    "    w -= w.grad * 0.001\n",
    "    b -= b.grad * 0.001"
   ]
  },
  {
   "cell_type": "code",
   "execution_count": null,
   "id": "7c599990",
   "metadata": {},
   "outputs": [],
   "source": [
    "print('W: ', w)\n",
    "print('B: ', b)"
   ]
  },
  {
   "cell_type": "code",
   "execution_count": null,
   "id": "b31f6664",
   "metadata": {},
   "outputs": [],
   "source": [
    "print('dy/dw: ', w.grad)\n",
    "print('dy/db: ', b.grad)"
   ]
  },
  {
   "cell_type": "markdown",
   "id": "7f36cb22",
   "metadata": {},
   "source": [
    "*We can clear the gradients using `zero_` function. Any function with a `_` in the end usually  means the operation is performed in-place.*"
   ]
  },
  {
   "cell_type": "code",
   "execution_count": null,
   "id": "5387ec79",
   "metadata": {},
   "outputs": [],
   "source": [
    "w.grad.zero_()\n",
    "b.grad.zero_()"
   ]
  },
  {
   "cell_type": "code",
   "execution_count": null,
   "id": "38970daa",
   "metadata": {},
   "outputs": [],
   "source": [
    "print('dy/dw: ', w.grad)\n",
    "print('dy/db: ', b.grad)"
   ]
  },
  {
   "cell_type": "markdown",
   "id": "6a1311f1",
   "metadata": {},
   "source": [
    "# A Simple Linear Regression"
   ]
  },
  {
   "cell_type": "markdown",
   "id": "28ea1861",
   "metadata": {},
   "source": [
    "*Preparing `iris` data.*"
   ]
  },
  {
   "cell_type": "code",
   "execution_count": null,
   "id": "72f7b41b",
   "metadata": {},
   "outputs": [],
   "source": [
    "from sklearn.datasets import load_iris"
   ]
  },
  {
   "cell_type": "code",
   "execution_count": null,
   "id": "71c580de",
   "metadata": {},
   "outputs": [],
   "source": [
    "iris = load_iris()"
   ]
  },
  {
   "cell_type": "code",
   "execution_count": null,
   "id": "a75b4836",
   "metadata": {},
   "outputs": [],
   "source": [
    "iris.data.shape"
   ]
  },
  {
   "cell_type": "markdown",
   "id": "1b737e72",
   "metadata": {},
   "source": [
    "*We will be taking first `3` columns, which are sepal lenght, sepal width, and petal length, as our features, and the last column, which is petal width, as target.**"
   ]
  },
  {
   "cell_type": "code",
   "execution_count": null,
   "id": "b1f4cd38",
   "metadata": {},
   "outputs": [],
   "source": [
    "x = iris.data[:, :3]\n",
    "y = iris.data[:, 3]"
   ]
  },
  {
   "cell_type": "code",
   "execution_count": null,
   "id": "d66c7463",
   "metadata": {},
   "outputs": [],
   "source": [
    "print(x.shape)\n",
    "print(y.shape)"
   ]
  },
  {
   "cell_type": "markdown",
   "id": "e1e213f4",
   "metadata": {},
   "source": [
    "*Next, we create tensors from the `ndarray`. Note that we have changed the shape of the label array. At first, `y` was `0` dimensional. To make it work with matrices, we changed it to `-1x1` dimensional, where `-1` means whatever numebr necessary or left after setting `1` column.* "
   ]
  },
  {
   "cell_type": "code",
   "execution_count": null,
   "id": "8decfd44",
   "metadata": {},
   "outputs": [],
   "source": [
    "x = torch.from_numpy(x)\n",
    "y = torch.from_numpy(y.reshape(-1, 1))"
   ]
  },
  {
   "cell_type": "code",
   "execution_count": null,
   "id": "3a6e6b77",
   "metadata": {},
   "outputs": [],
   "source": [
    "print(x.shape)\n",
    "print(x.dtype)\n",
    "print(y.shape)\n",
    "print(y.dtype)"
   ]
  },
  {
   "cell_type": "markdown",
   "id": "e3aabf0b",
   "metadata": {},
   "source": [
    "*Weight initialization. We initialize a `3x1` matrix as there are `3` features, and a `1x1` bias.*"
   ]
  },
  {
   "cell_type": "code",
   "execution_count": null,
   "id": "cd2e0223",
   "metadata": {},
   "outputs": [],
   "source": [
    "w = torch.rand(3, 1, requires_grad=True, dtype=torch.float64)\n",
    "b = torch.rand(1, 1, requires_grad=True, dtype=torch.float64)"
   ]
  },
  {
   "cell_type": "code",
   "execution_count": null,
   "id": "24386b7e",
   "metadata": {},
   "outputs": [],
   "source": [
    "print(w)"
   ]
  },
  {
   "cell_type": "code",
   "execution_count": null,
   "id": "0b8d86fa",
   "metadata": {},
   "outputs": [],
   "source": [
    "print(b)"
   ]
  },
  {
   "cell_type": "code",
   "execution_count": null,
   "id": "2735dc4b",
   "metadata": {},
   "outputs": [],
   "source": [
    "print(w.shape)\n",
    "print(w.dtype)\n",
    "print(b.shape)\n",
    "print(b.dtype)"
   ]
  },
  {
   "cell_type": "markdown",
   "id": "41d07b23",
   "metadata": {},
   "source": [
    "*Creating model. Our simple linear model has equation of $w_{1}x_{1} + w_{2}x_{2} + w_{3}x_{3} + b$, which is simply achieved by computing $x\\times W + b$.*"
   ]
  },
  {
   "cell_type": "code",
   "execution_count": null,
   "id": "d252377b",
   "metadata": {},
   "outputs": [],
   "source": [
    "def model(x):\n",
    "    return x @ w + b"
   ]
  },
  {
   "cell_type": "code",
   "execution_count": null,
   "id": "67b92d9c",
   "metadata": {},
   "outputs": [],
   "source": [
    "def mse(pred, label):\n",
    "    ae = pred - label\n",
    "    return torch.sum(ae * ae) / ae.numel()"
   ]
  },
  {
   "cell_type": "code",
   "execution_count": null,
   "id": "13db47aa",
   "metadata": {},
   "outputs": [],
   "source": [
    "epochs = 10\n",
    "lr = 0.01\n",
    "\n",
    "for e in range(epochs):\n",
    "    predictions = model(x)\n",
    "    loss = mse(predictions, y)\n",
    "    \n",
    "    print('Epoch ', e, ': Loss ', loss)\n",
    "    \n",
    "    with torch.no_grad():\n",
    "        loss.backward()\n",
    "        \n",
    "        w -= w.grad * lr\n",
    "        b -= b.grad * lr\n",
    "        \n",
    "        w.grad.zero_()\n",
    "        b.grad.zero_()"
   ]
  },
  {
   "cell_type": "markdown",
   "id": "08ac8eee",
   "metadata": {},
   "source": [
    "# Regression Using PyTorch"
   ]
  },
  {
   "cell_type": "code",
   "execution_count": null,
   "id": "91c115f3",
   "metadata": {},
   "outputs": [],
   "source": [
    "import torch.nn as nn\n",
    "from torch.optim import SGD, Adam\n",
    "from torch.nn.functional import mse_loss\n",
    "from torch.utils.data.sampler import SubsetRandomSampler\n",
    "from torch.utils.data import Dataset, DataLoader"
   ]
  },
  {
   "cell_type": "code",
   "execution_count": null,
   "id": "a8a22f75",
   "metadata": {},
   "outputs": [],
   "source": [
    "class MakeTensor:\n",
    "    def __call__(self, sample):\n",
    "        x, y = sample\n",
    "        return torch.from_numpy(x.astype(np.float32)), torch.from_numpy(y.astype(np.float32))"
   ]
  },
  {
   "cell_type": "code",
   "execution_count": null,
   "id": "2446fc8d",
   "metadata": {},
   "outputs": [],
   "source": [
    "class IRISDataset(Dataset):\n",
    "    def __init__(self, transforms=None):\n",
    "        data = load_iris()\n",
    "        self.x = data.data[:, 0:3]\n",
    "        self.y = data.data[:, [3]]\n",
    "        self.n = data.data.shape[0]\n",
    "        self.transforms = transforms\n",
    "    \n",
    "    def __getitem__(self, index):\n",
    "        sample = self.x[index], self.y[index]\n",
    "        \n",
    "        if self.transforms:\n",
    "            sample = self.transforms(sample)\n",
    "        return sample\n",
    "    \n",
    "    def __len__(self):\n",
    "        return self.n"
   ]
  },
  {
   "cell_type": "code",
   "execution_count": null,
   "id": "10aaeee9",
   "metadata": {},
   "outputs": [],
   "source": [
    "dataset = IRISDataset(transforms=MakeTensor())"
   ]
  },
  {
   "cell_type": "code",
   "execution_count": null,
   "id": "3ebfacd1",
   "metadata": {},
   "outputs": [],
   "source": [
    "dataset[0]"
   ]
  },
  {
   "cell_type": "code",
   "execution_count": null,
   "id": "7b663ab2",
   "metadata": {},
   "outputs": [],
   "source": [
    "datasampler = SubsetRandomSampler(np.arange(len(dataset)))\n",
    "dataloader = DataLoader(dataset, 32, sampler=datasampler)"
   ]
  },
  {
   "cell_type": "code",
   "execution_count": null,
   "id": "5026b44a",
   "metadata": {},
   "outputs": [],
   "source": [
    "for xa, ya in dataloader:\n",
    "    print(xa.shape)\n",
    "    print(ya.shape)"
   ]
  },
  {
   "cell_type": "markdown",
   "id": "c6c4c504",
   "metadata": {},
   "source": [
    "*Rememeber that the entire `nn` module only supports mini-batches. So, if your image has size `3x32x32`, it will be actually `1x3x32x32` during the training. The first dimension is the mini-batch dimension. You can convert a single 3-dimensional image to 4-dimensional mini-batch using `torch.unsqueeze()`.*"
   ]
  },
  {
   "cell_type": "code",
   "execution_count": null,
   "id": "bdbb9e0d",
   "metadata": {},
   "outputs": [],
   "source": [
    "model = nn.Linear(in_features=3, out_features=1, bias=True)"
   ]
  },
  {
   "cell_type": "code",
   "execution_count": null,
   "id": "bf5db727",
   "metadata": {},
   "outputs": [],
   "source": [
    "model.weight"
   ]
  },
  {
   "cell_type": "code",
   "execution_count": null,
   "id": "61f51079",
   "metadata": {},
   "outputs": [],
   "source": [
    "model.bias"
   ]
  },
  {
   "cell_type": "code",
   "execution_count": null,
   "id": "6ca90c65",
   "metadata": {},
   "outputs": [],
   "source": [
    "list(model.parameters())"
   ]
  },
  {
   "cell_type": "code",
   "execution_count": null,
   "id": "9b3a6b41",
   "metadata": {},
   "outputs": [],
   "source": [
    "optimizer = SGD(model.parameters(), lr=1e-3)"
   ]
  },
  {
   "cell_type": "markdown",
   "id": "b09c4fe2",
   "metadata": {},
   "source": [
    "Suppose your `epochs=10`, your training data has `10,000` observations, and batch size is `1,000`. Then, then number of weight updates that will take place is `10 * (10,000/1,000)`. It means in each epoch, there will be `10000/1000` or `10` steps. Therefore, in `10` epochs, there will be `100` steps."
   ]
  },
  {
   "cell_type": "code",
   "execution_count": null,
   "id": "92452dc8",
   "metadata": {},
   "outputs": [],
   "source": [
    "epochs = 25\n",
    "\n",
    "for e in range(epochs):\n",
    "    for xb, yb in dataloader:\n",
    "        predictions = model(xb)\n",
    "        loss = mse_loss(predictions, yb)\n",
    "\n",
    "        with torch.no_grad():\n",
    "            loss.backward()\n",
    "            optimizer.step()\n",
    "            optimizer.zero_grad()\n",
    "    \n",
    "    print('Epoch ', e)\n",
    "    print(loss)"
   ]
  },
  {
   "cell_type": "markdown",
   "id": "4c8dde32",
   "metadata": {},
   "source": [
    "# Logistic Regression"
   ]
  },
  {
   "cell_type": "code",
   "execution_count": null,
   "id": "799c25f2",
   "metadata": {},
   "outputs": [],
   "source": [
    "import matplotlib.pyplot as plt\n",
    "import torchvision\n",
    "from torch.nn.functional import relu, softmax, cross_entropy\n",
    "from torchvision.datasets import MNIST\n",
    "from torchvision.transforms import transforms\n",
    "from torch.utils.data.sampler import SubsetRandomSampler"
   ]
  },
  {
   "cell_type": "code",
   "execution_count": null,
   "id": "d69c951b",
   "metadata": {},
   "outputs": [],
   "source": [
    "mnist = MNIST(root='./data/', download=True, transform=transforms.ToTensor())"
   ]
  },
  {
   "cell_type": "code",
   "execution_count": null,
   "id": "4926deec",
   "metadata": {},
   "outputs": [],
   "source": [
    "mnist"
   ]
  },
  {
   "cell_type": "code",
   "execution_count": null,
   "id": "fcd95518",
   "metadata": {},
   "outputs": [],
   "source": [
    "def train_val_split(n, val_fraction=0.2):\n",
    "    nval = int(n * val_fraction)\n",
    "    idx = np.random.permutation(n)\n",
    "    return idx[nval:], idx[:nval]"
   ]
  },
  {
   "cell_type": "code",
   "execution_count": null,
   "id": "6b668d31",
   "metadata": {},
   "outputs": [],
   "source": [
    "train_idx, val_idx = train_val_split(len(mnist))"
   ]
  },
  {
   "cell_type": "code",
   "execution_count": null,
   "id": "88c2be4e",
   "metadata": {},
   "outputs": [],
   "source": [
    "print(len(train_idx))\n",
    "print(len(val_idx))"
   ]
  },
  {
   "cell_type": "code",
   "execution_count": null,
   "id": "15a62bb9",
   "metadata": {},
   "outputs": [],
   "source": [
    "train_sampler = SubsetRandomSampler(train_idx)\n",
    "val_sampler = SubsetRandomSampler(val_idx)\n",
    "\n",
    "train_loader = DataLoader(mnist, 32, sampler=train_sampler)\n",
    "val_loader = DataLoader(mnist, 32, sampler=val_sampler)"
   ]
  },
  {
   "cell_type": "code",
   "execution_count": null,
   "id": "551d0669",
   "metadata": {},
   "outputs": [],
   "source": [
    "class MNISTClassifier(nn.Module):\n",
    "    def __init__(self):\n",
    "        super().__init__()\n",
    "        \n",
    "        self.linear = nn.Linear(28*28, 10)\n",
    "    \n",
    "    def forward(self, xb):\n",
    "        xb = xb.view(-1, 784)\n",
    "        output = self.linear(xb)\n",
    "        return output"
   ]
  },
  {
   "cell_type": "code",
   "execution_count": null,
   "id": "42361a31",
   "metadata": {},
   "outputs": [],
   "source": [
    "model = MNISTClassifier()"
   ]
  },
  {
   "cell_type": "code",
   "execution_count": null,
   "id": "f87033d2",
   "metadata": {},
   "outputs": [],
   "source": [
    "print(model.linear.weight.shape)\n",
    "print(model.linear.bias.shape)"
   ]
  },
  {
   "cell_type": "code",
   "execution_count": null,
   "id": "04da545d",
   "metadata": {},
   "outputs": [],
   "source": [
    "optimizer = torch.optim.SGD(model.parameters(), lr=0.001)"
   ]
  },
  {
   "cell_type": "code",
   "execution_count": null,
   "id": "8c915dd0",
   "metadata": {},
   "outputs": [],
   "source": [
    "def accuracy(pred, label):\n",
    "    _, predictions = torch.max(pred, dim=1)\n",
    "    return torch.sum(predictions == label).item() / len(pred)"
   ]
  },
  {
   "cell_type": "code",
   "execution_count": null,
   "id": "879c1ada",
   "metadata": {},
   "outputs": [],
   "source": [
    "def train_batch(model, loss_func, bx, by, optimizer, metric=accuracy):\n",
    "    output = model(bx)       \n",
    "    loss = cross_entropy(output, by)\n",
    "\n",
    "    with torch.no_grad():\n",
    "        loss.backward()\n",
    "        optimizer.step()\n",
    "        optimizer.zero_grad()\n",
    "    \n",
    "    result = metric(output, by)\n",
    "    return loss.item(), len(bx), result"
   ]
  },
  {
   "cell_type": "code",
   "execution_count": null,
   "id": "d5f91a3e",
   "metadata": {},
   "outputs": [],
   "source": [
    "def evaluate(model, loss_func, validation_data, optimizer, metric=accuracy):\n",
    "    results = [train_batch(model, loss_func, bx, by, optimizer, metric) for bx, by in validation_data]\n",
    "    losses, lens, results = zip(*results)\n",
    "    total_data = np.sum(lens)\n",
    "    avg_loss = np.sum(np.multiply(losses, lens)) / total_data\n",
    "    avg_result = np.sum(np.multiply(results, lens)) / total_data\n",
    "    \n",
    "    return avg_loss, total_data, avg_result"
   ]
  },
  {
   "cell_type": "code",
   "execution_count": null,
   "id": "6b3892f3",
   "metadata": {},
   "outputs": [],
   "source": [
    "def fit(model, epochs, loss_func, optimizer, train, validation, metric=accuracy):\n",
    "    for e in (range(epochs)):\n",
    "        for bx, by in train:\n",
    "            loss, _, _ = train_batch(model, loss_func, bx, by, optimizer, metric)\n",
    "\n",
    "        val_loss, _, val_result = evaluate(model, loss_func, validation, optimizer, metric)\n",
    "        print('Epoch {}/{}: Training Loss: {:.2f}, Validation Loss: {:.2f}, Validation Metric: {:.2f}'.format(e+1, epochs, loss, val_loss, val_result))"
   ]
  },
  {
   "cell_type": "code",
   "execution_count": null,
   "id": "d7ce4815",
   "metadata": {},
   "outputs": [],
   "source": [
    "fit(model, 10, cross_entropy, optimizer, train_loader, val_loader)"
   ]
  },
  {
   "cell_type": "markdown",
   "id": "88603467",
   "metadata": {},
   "source": [
    "# A Simple Neural Network"
   ]
  },
  {
   "cell_type": "code",
   "execution_count": null,
   "id": "d9bd2661",
   "metadata": {},
   "outputs": [],
   "source": [
    "class MNISTNetwork(nn.Module):\n",
    "    def __init__(self):\n",
    "        super().__init__()\n",
    "        \n",
    "        self.linear1 = nn.Linear(in_features=28*28, out_features=128, bias=True)\n",
    "        self.linear2 = nn.Linear(in_features=128, out_features=10, bias=True)\n",
    "    \n",
    "    def forward(self, bx):\n",
    "        bx = bx.view(bx.size(0), -1)\n",
    "        output = self.linear1(bx)\n",
    "        output = relu(output)\n",
    "        output = self.linear2(output)\n",
    "        \n",
    "        return output"
   ]
  },
  {
   "cell_type": "code",
   "execution_count": null,
   "id": "f90ddfd4",
   "metadata": {},
   "outputs": [],
   "source": [
    "model = MNISTNetwork()"
   ]
  },
  {
   "cell_type": "code",
   "execution_count": null,
   "id": "83788f45",
   "metadata": {},
   "outputs": [],
   "source": [
    "optimizer = Adam(model.parameters(), lr=0.001, betas=(0.9, 0.999))"
   ]
  },
  {
   "cell_type": "code",
   "execution_count": null,
   "id": "c3325a25",
   "metadata": {},
   "outputs": [],
   "source": [
    "fit(model, 10, cross_entropy, optimizer, train_loader, val_loader)"
   ]
  },
  {
   "cell_type": "code",
   "execution_count": null,
   "id": "d78c4889",
   "metadata": {},
   "outputs": [],
   "source": []
  }
 ],
 "metadata": {
  "kernelspec": {
   "display_name": "Python 3 (ipykernel)",
   "language": "python",
   "name": "python3"
  },
  "language_info": {
   "codemirror_mode": {
    "name": "ipython",
    "version": 3
   },
   "file_extension": ".py",
   "mimetype": "text/x-python",
   "name": "python",
   "nbconvert_exporter": "python",
   "pygments_lexer": "ipython3",
   "version": "3.8.10"
  }
 },
 "nbformat": 4,
 "nbformat_minor": 5
}
